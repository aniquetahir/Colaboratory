{
  "nbformat": 4,
  "nbformat_minor": 0,
  "metadata": {
    "colab": {
      "name": "SentimentAnalysis.ipynb",
      "version": "0.3.2",
      "provenance": [],
      "include_colab_link": true
    },
    "kernelspec": {
      "name": "python3",
      "display_name": "Python 3"
    },
    "accelerator": "GPU"
  },
  "cells": [
    {
      "cell_type": "markdown",
      "metadata": {
        "id": "view-in-github",
        "colab_type": "text"
      },
      "source": [
        "[View in Colaboratory](https://colab.research.google.com/github/aniquetahir/Colaboratory/blob/master/SentimentAnalysis.ipynb)"
      ]
    },
    {
      "metadata": {
        "id": "490FWZrsRT4e",
        "colab_type": "text"
      },
      "cell_type": "markdown",
      "source": [
        "# Objective Guide to Recurrent Neural Networks\n",
        "\n",
        "This is a short to-the-point hands on guide to recurrent neural networks. For the purpose of demonstration, I use sentiment analysis as the use case. The principles applied, however, can be used for a number of tasks."
      ]
    },
    {
      "metadata": {
        "id": "X6LNSbd4Zeqa",
        "colab_type": "text"
      },
      "cell_type": "markdown",
      "source": [
        "## Prerequisites\n",
        "- You must have basic familiarity with data analysis\n",
        "- You should be familiar with the fundamentals behind ANN\n",
        "\n"
      ]
    },
    {
      "metadata": {
        "id": "E0fJFRodljV3",
        "colab_type": "code",
        "colab": {
          "base_uri": "https://localhost:8080/",
          "height": 34
        },
        "outputId": "99a87287-2af7-4a3b-e5c5-8ed8ba8fe22a"
      },
      "cell_type": "code",
      "source": [
        "%%html \n",
        "<b style='color:red;'>Please enable GPU for the runtime: Runtime->Change Runtime Type->Hardware Accelerator->GPU</b>\n"
      ],
      "execution_count": 3,
      "outputs": [
        {
          "output_type": "display_data",
          "data": {
            "text/html": [
              "<b style='color:red;'>Please enable GPU for the runtime: Runtime->Change Runtime Type->Hardware Accelerator->GPU</b>"
            ],
            "text/plain": [
              "<IPython.core.display.HTML object>"
            ]
          },
          "metadata": {
            "tags": []
          }
        }
      ]
    },
    {
      "metadata": {
        "id": "AUoIppa_RiiF",
        "colab_type": "text"
      },
      "cell_type": "markdown",
      "source": [
        "## Precursors\n",
        "- Install Keras\n",
        "- Install Bokeh for visualizations\n",
        "- Download the training dataset\n",
        "- Import Keras Model, Layers"
      ]
    },
    {
      "metadata": {
        "id": "fsjcKzx8Rpfn",
        "colab_type": "code",
        "colab": {
          "base_uri": "https://localhost:8080/",
          "height": 845
        },
        "outputId": "3b0c7b7f-9766-4457-8d1f-e0cdf8b7cbe3"
      },
      "cell_type": "code",
      "source": [
        "%%bash\n",
        "apt install graphviz\n",
        "pip install keras\n",
        "pip install bokeh\n",
        "pip install git+https://github.com/tla/ipython-hierarchymagic"
      ],
      "execution_count": 5,
      "outputs": [
        {
          "output_type": "stream",
          "text": [
            "Requirement already satisfied: keras in /usr/local/lib/python3.6/dist-packages (2.1.6)\n",
            "Requirement already satisfied: scipy>=0.14 in /usr/local/lib/python3.6/dist-packages (from keras) (0.19.1)\n",
            "Requirement already satisfied: h5py in /usr/local/lib/python3.6/dist-packages (from keras) (2.8.0)\n",
            "Requirement already satisfied: numpy>=1.9.1 in /usr/local/lib/python3.6/dist-packages (from keras) (1.14.5)\n",
            "Requirement already satisfied: six>=1.9.0 in /usr/local/lib/python3.6/dist-packages (from keras) (1.11.0)\n",
            "Requirement already satisfied: pyyaml in /usr/local/lib/python3.6/dist-packages (from keras) (3.13)\n",
            "Requirement already satisfied: bokeh in /usr/local/lib/python3.6/dist-packages (0.13.0)\n",
            "Requirement already satisfied: six>=1.5.2 in /usr/local/lib/python3.6/dist-packages (from bokeh) (1.11.0)\n",
            "Requirement already satisfied: PyYAML>=3.10 in /usr/local/lib/python3.6/dist-packages (from bokeh) (3.13)\n",
            "Requirement already satisfied: packaging>=16.8 in /usr/local/lib/python3.6/dist-packages (from bokeh) (17.1)\n",
            "Requirement already satisfied: Jinja2>=2.7 in /usr/local/lib/python3.6/dist-packages (from bokeh) (2.10)\n",
            "Requirement already satisfied: python-dateutil>=2.1 in /usr/local/lib/python3.6/dist-packages (from bokeh) (2.5.3)\n",
            "Requirement already satisfied: tornado>=4.3 in /usr/local/lib/python3.6/dist-packages (from bokeh) (4.5.3)\n",
            "Requirement already satisfied: numpy>=1.7.1 in /usr/local/lib/python3.6/dist-packages (from bokeh) (1.14.5)\n",
            "Requirement already satisfied: pyparsing>=2.0.2 in /usr/local/lib/python3.6/dist-packages (from packaging>=16.8->bokeh) (2.2.1)\n",
            "Requirement already satisfied: MarkupSafe>=0.23 in /usr/local/lib/python3.6/dist-packages (from Jinja2>=2.7->bokeh) (1.0)\n",
            "Collecting git+https://github.com/tla/ipython-hierarchymagic\n",
            "  Cloning https://github.com/tla/ipython-hierarchymagic to /tmp/pip-req-build-k66zruon\n",
            "Requirement already satisfied (use --upgrade to upgrade): ipython-hierarchymagic==0.1 from git+https://github.com/tla/ipython-hierarchymagic in /usr/local/lib/python3.6/dist-packages\n",
            "Requirement already satisfied: sphinx in /usr/local/lib/python3.6/dist-packages (from ipython-hierarchymagic==0.1) (1.8.1)\n",
            "Requirement already satisfied: docutils>=0.11 in /usr/local/lib/python3.6/dist-packages (from sphinx->ipython-hierarchymagic==0.1) (0.14)\n",
            "Requirement already satisfied: packaging in /usr/local/lib/python3.6/dist-packages (from sphinx->ipython-hierarchymagic==0.1) (17.1)\n",
            "Requirement already satisfied: alabaster<0.8,>=0.7 in /usr/local/lib/python3.6/dist-packages (from sphinx->ipython-hierarchymagic==0.1) (0.7.11)\n",
            "Requirement already satisfied: Jinja2>=2.3 in /usr/local/lib/python3.6/dist-packages (from sphinx->ipython-hierarchymagic==0.1) (2.10)\n",
            "Requirement already satisfied: setuptools in /usr/local/lib/python3.6/dist-packages (from sphinx->ipython-hierarchymagic==0.1) (39.1.0)\n",
            "Requirement already satisfied: requests>=2.0.0 in /usr/local/lib/python3.6/dist-packages (from sphinx->ipython-hierarchymagic==0.1) (2.18.4)\n",
            "Requirement already satisfied: snowballstemmer>=1.1 in /usr/local/lib/python3.6/dist-packages (from sphinx->ipython-hierarchymagic==0.1) (1.2.1)\n",
            "Requirement already satisfied: Pygments>=2.0 in /usr/local/lib/python3.6/dist-packages (from sphinx->ipython-hierarchymagic==0.1) (2.1.3)\n",
            "Requirement already satisfied: sphinxcontrib-websupport in /usr/local/lib/python3.6/dist-packages (from sphinx->ipython-hierarchymagic==0.1) (1.1.0)\n",
            "Requirement already satisfied: imagesize in /usr/local/lib/python3.6/dist-packages (from sphinx->ipython-hierarchymagic==0.1) (1.1.0)\n",
            "Requirement already satisfied: six>=1.5 in /usr/local/lib/python3.6/dist-packages (from sphinx->ipython-hierarchymagic==0.1) (1.11.0)\n",
            "Requirement already satisfied: babel!=2.0,>=1.3 in /usr/local/lib/python3.6/dist-packages (from sphinx->ipython-hierarchymagic==0.1) (2.6.0)\n",
            "Requirement already satisfied: pyparsing>=2.0.2 in /usr/local/lib/python3.6/dist-packages (from packaging->sphinx->ipython-hierarchymagic==0.1) (2.2.1)\n",
            "Requirement already satisfied: MarkupSafe>=0.23 in /usr/local/lib/python3.6/dist-packages (from Jinja2>=2.3->sphinx->ipython-hierarchymagic==0.1) (1.0)\n",
            "Requirement already satisfied: certifi>=2017.4.17 in /usr/local/lib/python3.6/dist-packages (from requests>=2.0.0->sphinx->ipython-hierarchymagic==0.1) (2018.8.24)\n",
            "Requirement already satisfied: urllib3<1.23,>=1.21.1 in /usr/local/lib/python3.6/dist-packages (from requests>=2.0.0->sphinx->ipython-hierarchymagic==0.1) (1.22)\n",
            "Requirement already satisfied: idna<2.7,>=2.5 in /usr/local/lib/python3.6/dist-packages (from requests>=2.0.0->sphinx->ipython-hierarchymagic==0.1) (2.6)\n",
            "Requirement already satisfied: chardet<3.1.0,>=3.0.2 in /usr/local/lib/python3.6/dist-packages (from requests>=2.0.0->sphinx->ipython-hierarchymagic==0.1) (3.0.4)\n",
            "Requirement already satisfied: pytz>=0a in /usr/local/lib/python3.6/dist-packages (from babel!=2.0,>=1.3->sphinx->ipython-hierarchymagic==0.1) (2018.5)\n",
            "Building wheels for collected packages: ipython-hierarchymagic\n",
            "  Running setup.py bdist_wheel for ipython-hierarchymagic: started\n",
            "  Running setup.py bdist_wheel for ipython-hierarchymagic: finished with status 'done'\n",
            "  Stored in directory: /tmp/pip-ephem-wheel-cache-urg_0b31/wheels/32/77/29/9bb9c3340e84bcdaa481575d1d18e60857fc184ba89a34e5f6\n",
            "Successfully built ipython-hierarchymagic\n"
          ],
          "name": "stdout"
        }
      ]
    },
    {
      "metadata": {
        "id": "tSBL163Gnc9M",
        "colab_type": "code",
        "colab": {}
      },
      "cell_type": "code",
      "source": [
        "%load_ext hierarchymagic"
      ],
      "execution_count": 0,
      "outputs": []
    },
    {
      "metadata": {
        "id": "63OYi2oCR4XD",
        "colab_type": "text"
      },
      "cell_type": "markdown",
      "source": [
        "### Test Bokeh visualizations\n"
      ]
    },
    {
      "metadata": {
        "id": "U8mszQ7qR0gs",
        "colab_type": "code",
        "colab": {}
      },
      "cell_type": "code",
      "source": [
        "from bokeh.plotting import figure, show\n",
        "from bokeh.io import output_notebook, push_notebook"
      ],
      "execution_count": 0,
      "outputs": []
    },
    {
      "metadata": {
        "id": "NmOsAGEWSWBz",
        "colab_type": "code",
        "colab": {
          "base_uri": "https://localhost:8080/",
          "height": 47
        },
        "outputId": "a066a18d-385c-448e-d718-020f255054da"
      },
      "cell_type": "code",
      "source": [
        "output_notebook()"
      ],
      "execution_count": 66,
      "outputs": [
        {
          "output_type": "display_data",
          "data": {
            "text/html": [
              "\n",
              "    <div class=\"bk-root\">\n",
              "        <a href=\"https://bokeh.pydata.org\" target=\"_blank\" class=\"bk-logo bk-logo-small bk-logo-notebook\"></a>\n",
              "        <span id=\"037e3d19-4953-4019-8415-8f5bf16e9676\">Loading BokehJS ...</span>\n",
              "    </div>"
            ]
          },
          "metadata": {
            "tags": []
          }
        },
        {
          "output_type": "display_data",
          "data": {
            "application/javascript": [
              "\n",
              "(function(root) {\n",
              "  function now() {\n",
              "    return new Date();\n",
              "  }\n",
              "\n",
              "  var force = true;\n",
              "\n",
              "  if (typeof (root._bokeh_onload_callbacks) === \"undefined\" || force === true) {\n",
              "    root._bokeh_onload_callbacks = [];\n",
              "    root._bokeh_is_loading = undefined;\n",
              "  }\n",
              "\n",
              "  var JS_MIME_TYPE = 'application/javascript';\n",
              "  var HTML_MIME_TYPE = 'text/html';\n",
              "  var EXEC_MIME_TYPE = 'application/vnd.bokehjs_exec.v0+json';\n",
              "  var CLASS_NAME = 'output_bokeh rendered_html';\n",
              "\n",
              "  /**\n",
              "   * Render data to the DOM node\n",
              "   */\n",
              "  function render(props, node) {\n",
              "    var script = document.createElement(\"script\");\n",
              "    node.appendChild(script);\n",
              "  }\n",
              "\n",
              "  /**\n",
              "   * Handle when an output is cleared or removed\n",
              "   */\n",
              "  function handleClearOutput(event, handle) {\n",
              "    var cell = handle.cell;\n",
              "\n",
              "    var id = cell.output_area._bokeh_element_id;\n",
              "    var server_id = cell.output_area._bokeh_server_id;\n",
              "    // Clean up Bokeh references\n",
              "    if (id != null && id in Bokeh.index) {\n",
              "      Bokeh.index[id].model.document.clear();\n",
              "      delete Bokeh.index[id];\n",
              "    }\n",
              "\n",
              "    if (server_id !== undefined) {\n",
              "      // Clean up Bokeh references\n",
              "      var cmd = \"from bokeh.io.state import curstate; print(curstate().uuid_to_server['\" + server_id + \"'].get_sessions()[0].document.roots[0]._id)\";\n",
              "      cell.notebook.kernel.execute(cmd, {\n",
              "        iopub: {\n",
              "          output: function(msg) {\n",
              "            var id = msg.content.text.trim();\n",
              "            if (id in Bokeh.index) {\n",
              "              Bokeh.index[id].model.document.clear();\n",
              "              delete Bokeh.index[id];\n",
              "            }\n",
              "          }\n",
              "        }\n",
              "      });\n",
              "      // Destroy server and session\n",
              "      var cmd = \"import bokeh.io.notebook as ion; ion.destroy_server('\" + server_id + \"')\";\n",
              "      cell.notebook.kernel.execute(cmd);\n",
              "    }\n",
              "  }\n",
              "\n",
              "  /**\n",
              "   * Handle when a new output is added\n",
              "   */\n",
              "  function handleAddOutput(event, handle) {\n",
              "    var output_area = handle.output_area;\n",
              "    var output = handle.output;\n",
              "\n",
              "    // limit handleAddOutput to display_data with EXEC_MIME_TYPE content only\n",
              "    if ((output.output_type != \"display_data\") || (!output.data.hasOwnProperty(EXEC_MIME_TYPE))) {\n",
              "      return\n",
              "    }\n",
              "\n",
              "    var toinsert = output_area.element.find(\".\" + CLASS_NAME.split(' ')[0]);\n",
              "\n",
              "    if (output.metadata[EXEC_MIME_TYPE][\"id\"] !== undefined) {\n",
              "      toinsert[toinsert.length - 1].firstChild.textContent = output.data[JS_MIME_TYPE];\n",
              "      // store reference to embed id on output_area\n",
              "      output_area._bokeh_element_id = output.metadata[EXEC_MIME_TYPE][\"id\"];\n",
              "    }\n",
              "    if (output.metadata[EXEC_MIME_TYPE][\"server_id\"] !== undefined) {\n",
              "      var bk_div = document.createElement(\"div\");\n",
              "      bk_div.innerHTML = output.data[HTML_MIME_TYPE];\n",
              "      var script_attrs = bk_div.children[0].attributes;\n",
              "      for (var i = 0; i < script_attrs.length; i++) {\n",
              "        toinsert[toinsert.length - 1].firstChild.setAttribute(script_attrs[i].name, script_attrs[i].value);\n",
              "      }\n",
              "      // store reference to server id on output_area\n",
              "      output_area._bokeh_server_id = output.metadata[EXEC_MIME_TYPE][\"server_id\"];\n",
              "    }\n",
              "  }\n",
              "\n",
              "  function register_renderer(events, OutputArea) {\n",
              "\n",
              "    function append_mime(data, metadata, element) {\n",
              "      // create a DOM node to render to\n",
              "      var toinsert = this.create_output_subarea(\n",
              "        metadata,\n",
              "        CLASS_NAME,\n",
              "        EXEC_MIME_TYPE\n",
              "      );\n",
              "      this.keyboard_manager.register_events(toinsert);\n",
              "      // Render to node\n",
              "      var props = {data: data, metadata: metadata[EXEC_MIME_TYPE]};\n",
              "      render(props, toinsert[toinsert.length - 1]);\n",
              "      element.append(toinsert);\n",
              "      return toinsert\n",
              "    }\n",
              "\n",
              "    /* Handle when an output is cleared or removed */\n",
              "    events.on('clear_output.CodeCell', handleClearOutput);\n",
              "    events.on('delete.Cell', handleClearOutput);\n",
              "\n",
              "    /* Handle when a new output is added */\n",
              "    events.on('output_added.OutputArea', handleAddOutput);\n",
              "\n",
              "    /**\n",
              "     * Register the mime type and append_mime function with output_area\n",
              "     */\n",
              "    OutputArea.prototype.register_mime_type(EXEC_MIME_TYPE, append_mime, {\n",
              "      /* Is output safe? */\n",
              "      safe: true,\n",
              "      /* Index of renderer in `output_area.display_order` */\n",
              "      index: 0\n",
              "    });\n",
              "  }\n",
              "\n",
              "  // register the mime type if in Jupyter Notebook environment and previously unregistered\n",
              "  if (root.Jupyter !== undefined) {\n",
              "    var events = require('base/js/events');\n",
              "    var OutputArea = require('notebook/js/outputarea').OutputArea;\n",
              "\n",
              "    if (OutputArea.prototype.mime_types().indexOf(EXEC_MIME_TYPE) == -1) {\n",
              "      register_renderer(events, OutputArea);\n",
              "    }\n",
              "  }\n",
              "\n",
              "  \n",
              "  if (typeof (root._bokeh_timeout) === \"undefined\" || force === true) {\n",
              "    root._bokeh_timeout = Date.now() + 5000;\n",
              "    root._bokeh_failed_load = false;\n",
              "  }\n",
              "\n",
              "  var NB_LOAD_WARNING = {'data': {'text/html':\n",
              "     \"<div style='background-color: #fdd'>\\n\"+\n",
              "     \"<p>\\n\"+\n",
              "     \"BokehJS does not appear to have successfully loaded. If loading BokehJS from CDN, this \\n\"+\n",
              "     \"may be due to a slow or bad network connection. Possible fixes:\\n\"+\n",
              "     \"</p>\\n\"+\n",
              "     \"<ul>\\n\"+\n",
              "     \"<li>re-rerun `output_notebook()` to attempt to load from CDN again, or</li>\\n\"+\n",
              "     \"<li>use INLINE resources instead, as so:</li>\\n\"+\n",
              "     \"</ul>\\n\"+\n",
              "     \"<code>\\n\"+\n",
              "     \"from bokeh.resources import INLINE\\n\"+\n",
              "     \"output_notebook(resources=INLINE)\\n\"+\n",
              "     \"</code>\\n\"+\n",
              "     \"</div>\"}};\n",
              "\n",
              "  function display_loaded() {\n",
              "    var el = document.getElementById(\"037e3d19-4953-4019-8415-8f5bf16e9676\");\n",
              "    if (el != null) {\n",
              "      el.textContent = \"BokehJS is loading...\";\n",
              "    }\n",
              "    if (root.Bokeh !== undefined) {\n",
              "      if (el != null) {\n",
              "        el.textContent = \"BokehJS \" + root.Bokeh.version + \" successfully loaded.\";\n",
              "      }\n",
              "    } else if (Date.now() < root._bokeh_timeout) {\n",
              "      setTimeout(display_loaded, 100)\n",
              "    }\n",
              "  }\n",
              "\n",
              "\n",
              "  function run_callbacks() {\n",
              "    try {\n",
              "      root._bokeh_onload_callbacks.forEach(function(callback) { callback() });\n",
              "    }\n",
              "    finally {\n",
              "      delete root._bokeh_onload_callbacks\n",
              "    }\n",
              "    console.info(\"Bokeh: all callbacks have finished\");\n",
              "  }\n",
              "\n",
              "  function load_libs(js_urls, callback) {\n",
              "    root._bokeh_onload_callbacks.push(callback);\n",
              "    if (root._bokeh_is_loading > 0) {\n",
              "      console.log(\"Bokeh: BokehJS is being loaded, scheduling callback at\", now());\n",
              "      return null;\n",
              "    }\n",
              "    if (js_urls == null || js_urls.length === 0) {\n",
              "      run_callbacks();\n",
              "      return null;\n",
              "    }\n",
              "    console.log(\"Bokeh: BokehJS not loaded, scheduling load and callback at\", now());\n",
              "    root._bokeh_is_loading = js_urls.length;\n",
              "    for (var i = 0; i < js_urls.length; i++) {\n",
              "      var url = js_urls[i];\n",
              "      var s = document.createElement('script');\n",
              "      s.src = url;\n",
              "      s.async = false;\n",
              "      s.onreadystatechange = s.onload = function() {\n",
              "        root._bokeh_is_loading--;\n",
              "        if (root._bokeh_is_loading === 0) {\n",
              "          console.log(\"Bokeh: all BokehJS libraries loaded\");\n",
              "          run_callbacks()\n",
              "        }\n",
              "      };\n",
              "      s.onerror = function() {\n",
              "        console.warn(\"failed to load library \" + url);\n",
              "      };\n",
              "      console.log(\"Bokeh: injecting script tag for BokehJS library: \", url);\n",
              "      document.getElementsByTagName(\"head\")[0].appendChild(s);\n",
              "    }\n",
              "  };var element = document.getElementById(\"037e3d19-4953-4019-8415-8f5bf16e9676\");\n",
              "  if (element == null) {\n",
              "    console.log(\"Bokeh: ERROR: autoload.js configured with elementid '037e3d19-4953-4019-8415-8f5bf16e9676' but no matching script tag was found. \")\n",
              "    return false;\n",
              "  }\n",
              "\n",
              "  var js_urls = [\"https://cdn.pydata.org/bokeh/release/bokeh-0.13.0.min.js\", \"https://cdn.pydata.org/bokeh/release/bokeh-widgets-0.13.0.min.js\", \"https://cdn.pydata.org/bokeh/release/bokeh-tables-0.13.0.min.js\", \"https://cdn.pydata.org/bokeh/release/bokeh-gl-0.13.0.min.js\"];\n",
              "\n",
              "  var inline_js = [\n",
              "    function(Bokeh) {\n",
              "      Bokeh.set_log_level(\"info\");\n",
              "    },\n",
              "    \n",
              "    function(Bokeh) {\n",
              "      \n",
              "    },\n",
              "    function(Bokeh) {\n",
              "      console.log(\"Bokeh: injecting CSS: https://cdn.pydata.org/bokeh/release/bokeh-0.13.0.min.css\");\n",
              "      Bokeh.embed.inject_css(\"https://cdn.pydata.org/bokeh/release/bokeh-0.13.0.min.css\");\n",
              "      console.log(\"Bokeh: injecting CSS: https://cdn.pydata.org/bokeh/release/bokeh-widgets-0.13.0.min.css\");\n",
              "      Bokeh.embed.inject_css(\"https://cdn.pydata.org/bokeh/release/bokeh-widgets-0.13.0.min.css\");\n",
              "      console.log(\"Bokeh: injecting CSS: https://cdn.pydata.org/bokeh/release/bokeh-tables-0.13.0.min.css\");\n",
              "      Bokeh.embed.inject_css(\"https://cdn.pydata.org/bokeh/release/bokeh-tables-0.13.0.min.css\");\n",
              "    }\n",
              "  ];\n",
              "\n",
              "  function run_inline_js() {\n",
              "    \n",
              "    if ((root.Bokeh !== undefined) || (force === true)) {\n",
              "      for (var i = 0; i < inline_js.length; i++) {\n",
              "        inline_js[i].call(root, root.Bokeh);\n",
              "      }if (force === true) {\n",
              "        display_loaded();\n",
              "      }} else if (Date.now() < root._bokeh_timeout) {\n",
              "      setTimeout(run_inline_js, 100);\n",
              "    } else if (!root._bokeh_failed_load) {\n",
              "      console.log(\"Bokeh: BokehJS failed to load within specified timeout.\");\n",
              "      root._bokeh_failed_load = true;\n",
              "    } else if (force !== true) {\n",
              "      var cell = $(document.getElementById(\"037e3d19-4953-4019-8415-8f5bf16e9676\")).parents('.cell').data().cell;\n",
              "      cell.output_area.append_execute_result(NB_LOAD_WARNING)\n",
              "    }\n",
              "\n",
              "  }\n",
              "\n",
              "  if (root._bokeh_is_loading === 0) {\n",
              "    console.log(\"Bokeh: BokehJS loaded, going straight to plotting\");\n",
              "    run_inline_js();\n",
              "  } else {\n",
              "    load_libs(js_urls, function() {\n",
              "      console.log(\"Bokeh: BokehJS plotting callback run at\", now());\n",
              "      run_inline_js();\n",
              "    });\n",
              "  }\n",
              "}(window));"
            ],
            "application/vnd.bokehjs_load.v0+json": "\n(function(root) {\n  function now() {\n    return new Date();\n  }\n\n  var force = true;\n\n  if (typeof (root._bokeh_onload_callbacks) === \"undefined\" || force === true) {\n    root._bokeh_onload_callbacks = [];\n    root._bokeh_is_loading = undefined;\n  }\n\n  \n\n  \n  if (typeof (root._bokeh_timeout) === \"undefined\" || force === true) {\n    root._bokeh_timeout = Date.now() + 5000;\n    root._bokeh_failed_load = false;\n  }\n\n  var NB_LOAD_WARNING = {'data': {'text/html':\n     \"<div style='background-color: #fdd'>\\n\"+\n     \"<p>\\n\"+\n     \"BokehJS does not appear to have successfully loaded. If loading BokehJS from CDN, this \\n\"+\n     \"may be due to a slow or bad network connection. Possible fixes:\\n\"+\n     \"</p>\\n\"+\n     \"<ul>\\n\"+\n     \"<li>re-rerun `output_notebook()` to attempt to load from CDN again, or</li>\\n\"+\n     \"<li>use INLINE resources instead, as so:</li>\\n\"+\n     \"</ul>\\n\"+\n     \"<code>\\n\"+\n     \"from bokeh.resources import INLINE\\n\"+\n     \"output_notebook(resources=INLINE)\\n\"+\n     \"</code>\\n\"+\n     \"</div>\"}};\n\n  function display_loaded() {\n    var el = document.getElementById(\"037e3d19-4953-4019-8415-8f5bf16e9676\");\n    if (el != null) {\n      el.textContent = \"BokehJS is loading...\";\n    }\n    if (root.Bokeh !== undefined) {\n      if (el != null) {\n        el.textContent = \"BokehJS \" + root.Bokeh.version + \" successfully loaded.\";\n      }\n    } else if (Date.now() < root._bokeh_timeout) {\n      setTimeout(display_loaded, 100)\n    }\n  }\n\n\n  function run_callbacks() {\n    try {\n      root._bokeh_onload_callbacks.forEach(function(callback) { callback() });\n    }\n    finally {\n      delete root._bokeh_onload_callbacks\n    }\n    console.info(\"Bokeh: all callbacks have finished\");\n  }\n\n  function load_libs(js_urls, callback) {\n    root._bokeh_onload_callbacks.push(callback);\n    if (root._bokeh_is_loading > 0) {\n      console.log(\"Bokeh: BokehJS is being loaded, scheduling callback at\", now());\n      return null;\n    }\n    if (js_urls == null || js_urls.length === 0) {\n      run_callbacks();\n      return null;\n    }\n    console.log(\"Bokeh: BokehJS not loaded, scheduling load and callback at\", now());\n    root._bokeh_is_loading = js_urls.length;\n    for (var i = 0; i < js_urls.length; i++) {\n      var url = js_urls[i];\n      var s = document.createElement('script');\n      s.src = url;\n      s.async = false;\n      s.onreadystatechange = s.onload = function() {\n        root._bokeh_is_loading--;\n        if (root._bokeh_is_loading === 0) {\n          console.log(\"Bokeh: all BokehJS libraries loaded\");\n          run_callbacks()\n        }\n      };\n      s.onerror = function() {\n        console.warn(\"failed to load library \" + url);\n      };\n      console.log(\"Bokeh: injecting script tag for BokehJS library: \", url);\n      document.getElementsByTagName(\"head\")[0].appendChild(s);\n    }\n  };var element = document.getElementById(\"037e3d19-4953-4019-8415-8f5bf16e9676\");\n  if (element == null) {\n    console.log(\"Bokeh: ERROR: autoload.js configured with elementid '037e3d19-4953-4019-8415-8f5bf16e9676' but no matching script tag was found. \")\n    return false;\n  }\n\n  var js_urls = [\"https://cdn.pydata.org/bokeh/release/bokeh-0.13.0.min.js\", \"https://cdn.pydata.org/bokeh/release/bokeh-widgets-0.13.0.min.js\", \"https://cdn.pydata.org/bokeh/release/bokeh-tables-0.13.0.min.js\", \"https://cdn.pydata.org/bokeh/release/bokeh-gl-0.13.0.min.js\"];\n\n  var inline_js = [\n    function(Bokeh) {\n      Bokeh.set_log_level(\"info\");\n    },\n    \n    function(Bokeh) {\n      \n    },\n    function(Bokeh) {\n      console.log(\"Bokeh: injecting CSS: https://cdn.pydata.org/bokeh/release/bokeh-0.13.0.min.css\");\n      Bokeh.embed.inject_css(\"https://cdn.pydata.org/bokeh/release/bokeh-0.13.0.min.css\");\n      console.log(\"Bokeh: injecting CSS: https://cdn.pydata.org/bokeh/release/bokeh-widgets-0.13.0.min.css\");\n      Bokeh.embed.inject_css(\"https://cdn.pydata.org/bokeh/release/bokeh-widgets-0.13.0.min.css\");\n      console.log(\"Bokeh: injecting CSS: https://cdn.pydata.org/bokeh/release/bokeh-tables-0.13.0.min.css\");\n      Bokeh.embed.inject_css(\"https://cdn.pydata.org/bokeh/release/bokeh-tables-0.13.0.min.css\");\n    }\n  ];\n\n  function run_inline_js() {\n    \n    if ((root.Bokeh !== undefined) || (force === true)) {\n      for (var i = 0; i < inline_js.length; i++) {\n        inline_js[i].call(root, root.Bokeh);\n      }if (force === true) {\n        display_loaded();\n      }} else if (Date.now() < root._bokeh_timeout) {\n      setTimeout(run_inline_js, 100);\n    } else if (!root._bokeh_failed_load) {\n      console.log(\"Bokeh: BokehJS failed to load within specified timeout.\");\n      root._bokeh_failed_load = true;\n    } else if (force !== true) {\n      var cell = $(document.getElementById(\"037e3d19-4953-4019-8415-8f5bf16e9676\")).parents('.cell').data().cell;\n      cell.output_area.append_execute_result(NB_LOAD_WARNING)\n    }\n\n  }\n\n  if (root._bokeh_is_loading === 0) {\n    console.log(\"Bokeh: BokehJS loaded, going straight to plotting\");\n    run_inline_js();\n  } else {\n    load_libs(js_urls, function() {\n      console.log(\"Bokeh: BokehJS plotting callback run at\", now());\n      run_inline_js();\n    });\n  }\n}(window));"
          },
          "metadata": {
            "tags": []
          }
        }
      ]
    },
    {
      "metadata": {
        "id": "m_OHiSh5Sl4x",
        "colab_type": "text"
      },
      "cell_type": "markdown",
      "source": [
        "### Sentiment Analysis Data\n",
        "We will use the IMDB dataset for this experiment"
      ]
    },
    {
      "metadata": {
        "id": "tbj23rw5SXfm",
        "colab_type": "code",
        "colab": {
          "base_uri": "https://localhost:8080/",
          "height": 35
        },
        "outputId": "14a9a1b5-6922-487b-cf27-46bed1040724"
      },
      "cell_type": "code",
      "source": [
        "import numpy as np\n",
        "import pandas as pd\n",
        "import keras"
      ],
      "execution_count": 4,
      "outputs": [
        {
          "output_type": "stream",
          "text": [
            "Using TensorFlow backend.\n"
          ],
          "name": "stderr"
        }
      ]
    },
    {
      "metadata": {
        "id": "eUZXDcDYUd3b",
        "colab_type": "code",
        "colab": {}
      },
      "cell_type": "code",
      "source": [
        "from keras.datasets import imdb"
      ],
      "execution_count": 0,
      "outputs": []
    },
    {
      "metadata": {
        "id": "zg9XOElTUiu5",
        "colab_type": "code",
        "colab": {},
        "cellView": "form"
      },
      "cell_type": "code",
      "source": [
        "#@title ### Dataset Parameters\n",
        "#@markdown ---\n",
        "#@markdown #### Number of words to use in classification\n",
        "num_classification_words = 20000 #@param {type: \"number\"}\n",
        "#@markdown #### The word limit for each entry\n",
        "words_limit = 100 #@param {type: \"number\"}\n",
        "\n"
      ],
      "execution_count": 0,
      "outputs": []
    },
    {
      "metadata": {
        "id": "s4nASiKQUxnn",
        "colab_type": "code",
        "colab": {
          "base_uri": "https://localhost:8080/",
          "height": 54
        },
        "outputId": "9ab8aff8-c1d2-460b-ac02-0b1a51af0dc3"
      },
      "cell_type": "code",
      "source": [
        "(x_train, y_train), (x_test, y_test) = imdb.load_data(num_words=num_classification_words)"
      ],
      "execution_count": 8,
      "outputs": [
        {
          "output_type": "stream",
          "text": [
            "Downloading data from https://s3.amazonaws.com/text-datasets/imdb.npz\n",
            "17465344/17464789 [==============================] - 2s 0us/step\n"
          ],
          "name": "stdout"
        }
      ]
    },
    {
      "metadata": {
        "id": "pZY-T6fnfkrL",
        "colab_type": "text"
      },
      "cell_type": "markdown",
      "source": [
        "#### Data Preprocessing\n",
        "Our RNN will take sequences of constant length. In our case this length is the `words_limit`\n"
      ]
    },
    {
      "metadata": {
        "id": "1xGzfrLNfj5R",
        "colab_type": "code",
        "colab": {}
      },
      "cell_type": "code",
      "source": [
        "from keras.preprocessing import sequence"
      ],
      "execution_count": 0,
      "outputs": []
    },
    {
      "metadata": {
        "id": "eDWse0BSfj_E",
        "colab_type": "code",
        "colab": {
          "base_uri": "https://localhost:8080/",
          "height": 54
        },
        "outputId": "15a14be2-7cc0-4ff1-8ed5-6bdc17f09e06"
      },
      "cell_type": "code",
      "source": [
        "x_train_seq = sequence.pad_sequences(x_train, maxlen=words_limit)\n",
        "x_test_seq = sequence.pad_sequences(x_test, maxlen=words_limit)\n",
        "\n",
        "print('train shape:', x_train_seq.shape)\n",
        "print('test shape:', x_test_seq.shape)"
      ],
      "execution_count": 10,
      "outputs": [
        {
          "output_type": "stream",
          "text": [
            "train shape: (25000, 100)\n",
            "test shape: (25000, 100)\n"
          ],
          "name": "stdout"
        }
      ]
    },
    {
      "metadata": {
        "id": "Hgp6PKqTbT9u",
        "colab_type": "text"
      },
      "cell_type": "markdown",
      "source": [
        "#### What kind of Data is this?\n",
        "The IMDB data that we just downloaded consists of reviews for movies. The labels tell us whether the sentiment for the review is positive or negative.\n",
        "\n",
        "After inspecting the data, you might find that the review data is just a list of numbers. This is because each word is enumerated as a number so that our solution can recognize it and assign it a place.\n",
        "\n",
        "Since each review consists of a variable number of words, we use `sequence.pad_sequences` to pad/truncate each review to a constant length."
      ]
    },
    {
      "metadata": {
        "id": "5Lp8GJyFdedO",
        "colab_type": "code",
        "colab": {}
      },
      "cell_type": "code",
      "source": [
        "from keras.models import Sequential, Model\n",
        "from keras.layers import Embedding, SimpleRNN, Dense, Dropout, Activation, Input, LSTM, GRU"
      ],
      "execution_count": 0,
      "outputs": []
    },
    {
      "metadata": {
        "id": "Bhs9axrqxfAf",
        "colab_type": "text"
      },
      "cell_type": "markdown",
      "source": [
        "## RNN Sentiment Analysis\n",
        "Here we create an RNN to analyze sentiments\n"
      ]
    },
    {
      "metadata": {
        "id": "dehipH5InySv",
        "colab_type": "text"
      },
      "cell_type": "markdown",
      "source": [
        "###What is an RNN?\n",
        "An RNN cell is a node in a neural network which is connected to itself. The output of the cell serves as the input to the cell. Consider the case of a sentence in out IMDB review example. Here each review is represented by a hundred words. In the case of an RNN. The first word is the first input to this cell. The output of this cell is used as the input to the cell again in addition to the second word and so forth till we reach the last word. Finally the output might be used in further layers to produce an output which represents the sentiment."
      ]
    },
    {
      "metadata": {
        "id": "knaAJVhEqE30",
        "colab_type": "code",
        "colab": {
          "base_uri": "https://localhost:8080/",
          "height": 220
        },
        "outputId": "8430f3ea-ec0f-4b04-c5d2-76bbbd51158e"
      },
      "cell_type": "code",
      "source": [
        "%%dot\n",
        "digraph G {\n",
        "    rankdir=LR;\n",
        "    first_word -> RNN_Cell;\n",
        "    second_word -> RNN_Cell;\n",
        "    nth_word -> RNN_Cell;\n",
        "    RNN_Cell -> RNN_Cell;\n",
        "    RNN_Cell -> Output_Cell;\n",
        "}"
      ],
      "execution_count": 19,
      "outputs": [
        {
          "output_type": "display_data",
          "data": {
            "image/png": "[encoded data removed]"
          },
          "metadata": {
            "tags": []
          }
        }
      ]
    },
    {
      "metadata": {
        "id": "SB1PcNNAs6uY",
        "colab_type": "text"
      },
      "cell_type": "markdown",
      "source": [
        "**Unfolded RNN**"
      ]
    },
    {
      "metadata": {
        "id": "JKwPr3Ilr_V0",
        "colab_type": "code",
        "colab": {
          "base_uri": "https://localhost:8080/",
          "height": 184
        },
        "outputId": "f8dfefdf-d5db-43c1-e39c-b2294f30334d"
      },
      "cell_type": "code",
      "source": [
        "%%dot\n",
        "digraph G {\n",
        "    rankdir=LR;\n",
        "    node1 [label=\"RNN_Cell\"];\n",
        "    node2 [label=\"RNN_Cell\"];\n",
        "    node3 [label=\"RNN_Cell\"];\n",
        "    first_word -> node1;\n",
        "    second_word -> node2;\n",
        "    nth_word -> node3;\n",
        "    node1 -> node2;\n",
        "    node2 -> node3;\n",
        "    node3 -> Output_Cell;\n",
        "}"
      ],
      "execution_count": 24,
      "outputs": [
        {
          "output_type": "display_data",
          "data": {
            "image/png": "[encoded data removed]"
          },
          "metadata": {
            "tags": []
          }
        }
      ]
    },
    {
      "metadata": {
        "id": "g7fpxHE3iY0W",
        "colab_type": "code",
        "colab": {}
      },
      "cell_type": "code",
      "source": [
        "rnn_input = Input(shape=(100,))\n",
        "embedding = Embedding(num_classification_words, 128, input_length=words_limit)(rnn_input)\n",
        "simple_rnn = SimpleRNN(128)(embedding)\n",
        "dropout = Dropout(0.4)(simple_rnn)\n",
        "dense = Dense(1)(dropout)\n",
        "activation = Activation('sigmoid')(dense)\n",
        "model = Model(rnn_input, activation)\n"
      ],
      "execution_count": 0,
      "outputs": []
    },
    {
      "metadata": {
        "id": "yrqP4S8_kq_H",
        "colab_type": "code",
        "colab": {
          "base_uri": "https://localhost:8080/",
          "height": 366
        },
        "outputId": "d2111343-efe8-4533-9a53-54092352c41a"
      },
      "cell_type": "code",
      "source": [
        "model.summary()"
      ],
      "execution_count": 37,
      "outputs": [
        {
          "output_type": "stream",
          "text": [
            "_________________________________________________________________\n",
            "Layer (type)                 Output Shape              Param #   \n",
            "=================================================================\n",
            "input_6 (InputLayer)         (None, 100)               0         \n",
            "_________________________________________________________________\n",
            "embedding_6 (Embedding)      (None, 100, 128)          2560000   \n",
            "_________________________________________________________________\n",
            "simple_rnn_6 (SimpleRNN)     (None, 128)               32896     \n",
            "_________________________________________________________________\n",
            "dropout_8 (Dropout)          (None, 128)               0         \n",
            "_________________________________________________________________\n",
            "dense_8 (Dense)              (None, 1)                 129       \n",
            "_________________________________________________________________\n",
            "activation_6 (Activation)    (None, 1)                 0         \n",
            "=================================================================\n",
            "Total params: 2,593,025\n",
            "Trainable params: 2,593,025\n",
            "Non-trainable params: 0\n",
            "_________________________________________________________________\n"
          ],
          "name": "stdout"
        }
      ]
    },
    {
      "metadata": {
        "id": "utnMKHdjkuDQ",
        "colab_type": "code",
        "colab": {}
      },
      "cell_type": "code",
      "source": [
        "# from keras.metrics import categorical_accuracy\n",
        "model.compile(optimizer='adam', loss='binary_crossentropy', metrics=['accuracy'])"
      ],
      "execution_count": 0,
      "outputs": []
    },
    {
      "metadata": {
        "id": "m4ZgxJIalJrr",
        "colab_type": "code",
        "colab": {
          "base_uri": "https://localhost:8080/",
          "height": 164
        },
        "outputId": "57891833-3192-4585-9db9-f70f9db49cc2"
      },
      "cell_type": "code",
      "source": [
        "model.fit(x_train_seq, y_train, batch_size=32, epochs=3, validation_data=(x_test_seq, y_test))"
      ],
      "execution_count": 39,
      "outputs": [
        {
          "output_type": "stream",
          "text": [
            "Train on 25000 samples, validate on 25000 samples\n",
            "Epoch 1/3\n",
            "25000/25000 [==============================] - 75s 3ms/step - loss: 0.6302 - acc: 0.6261 - val_loss: 0.4743 - val_acc: 0.7806\n",
            "Epoch 2/3\n",
            "25000/25000 [==============================] - 75s 3ms/step - loss: 0.4538 - acc: 0.8017 - val_loss: 0.4607 - val_acc: 0.7996\n",
            "Epoch 3/3\n",
            "25000/25000 [==============================] - 74s 3ms/step - loss: 0.5124 - acc: 0.7514 - val_loss: 0.6627 - val_acc: 0.5831\n"
          ],
          "name": "stdout"
        },
        {
          "output_type": "execute_result",
          "data": {
            "text/plain": [
              "<keras.callbacks.History at 0x7fb148323470>"
            ]
          },
          "metadata": {
            "tags": []
          },
          "execution_count": 39
        }
      ]
    },
    {
      "metadata": {
        "id": "g-xH3uNDx5mY",
        "colab_type": "text"
      },
      "cell_type": "markdown",
      "source": [
        "## LSTM Sentiment Analysis"
      ]
    },
    {
      "metadata": {
        "id": "EHAR-VrZtMBA",
        "colab_type": "text"
      },
      "cell_type": "markdown",
      "source": [
        "###What is an LSTM?\n",
        "An LSTM (Long Short Term Memory) Cell, as the name implies, is capable of storing long and short term dependencies.\n",
        "\n",
        "Consider the following two sentences:\n",
        "- Cats are good\n",
        "- Cats are animals. Cats are very popular on the internet. This means that they are good.\n",
        "\n",
        "Both of the sentences reflect a positive sentiment. However, the distance between the subject and adjective is different in both the sentences. If we use a simple RNN. This type of relationship is impossible to represent(assuming we have a limited number of cells and training examples).\n",
        "\n",
        "LSTM's are designed like IC's. They have gates(input, forget, output) that store long and short term dependencies. This makes it easier to process this sort of use case. "
      ]
    },
    {
      "metadata": {
        "id": "tc8agvdDl7xo",
        "colab_type": "code",
        "colab": {
          "base_uri": "https://localhost:8080/",
          "height": 366
        },
        "outputId": "e89b302d-82c8-451d-adb9-ebd61474cda8"
      },
      "cell_type": "code",
      "source": [
        "lstm_input = Input(shape=(100,))\n",
        "embedding = Embedding(num_classification_words, 128, input_length=words_limit)(lstm_input)\n",
        "simple_lstm = LSTM(128)(embedding)\n",
        "dropout = Dropout(0.4)(simple_lstm)\n",
        "dense = Dense(1)(dropout)\n",
        "activation = Activation('sigmoid')(dense)\n",
        "model = Model(lstm_input, activation)\n",
        "model.summary()"
      ],
      "execution_count": 42,
      "outputs": [
        {
          "output_type": "stream",
          "text": [
            "_________________________________________________________________\n",
            "Layer (type)                 Output Shape              Param #   \n",
            "=================================================================\n",
            "input_8 (InputLayer)         (None, 100)               0         \n",
            "_________________________________________________________________\n",
            "embedding_8 (Embedding)      (None, 100, 128)          2560000   \n",
            "_________________________________________________________________\n",
            "lstm_2 (LSTM)                (None, 128)               131584    \n",
            "_________________________________________________________________\n",
            "dropout_10 (Dropout)         (None, 128)               0         \n",
            "_________________________________________________________________\n",
            "dense_10 (Dense)             (None, 1)                 129       \n",
            "_________________________________________________________________\n",
            "activation_8 (Activation)    (None, 1)                 0         \n",
            "=================================================================\n",
            "Total params: 2,691,713\n",
            "Trainable params: 2,691,713\n",
            "Non-trainable params: 0\n",
            "_________________________________________________________________\n"
          ],
          "name": "stdout"
        }
      ]
    },
    {
      "metadata": {
        "id": "H_Xe1tqlyZb-",
        "colab_type": "code",
        "colab": {
          "base_uri": "https://localhost:8080/",
          "height": 164
        },
        "outputId": "10eb121a-3e8e-4b97-e924-55113e75446f"
      },
      "cell_type": "code",
      "source": [
        "model.compile(optimizer='adam', loss='binary_crossentropy', metrics=['accuracy'])\n",
        "model.fit(x_train_seq, y_train, batch_size=32, epochs=3, validation_data=(x_test_seq, y_test))"
      ],
      "execution_count": 43,
      "outputs": [
        {
          "output_type": "stream",
          "text": [
            "Train on 25000 samples, validate on 25000 samples\n",
            "Epoch 1/3\n",
            "25000/25000 [==============================] - 280s 11ms/step - loss: 0.4162 - acc: 0.8048 - val_loss: 0.3377 - val_acc: 0.8501\n",
            "Epoch 2/3\n",
            "25000/25000 [==============================] - 278s 11ms/step - loss: 0.2356 - acc: 0.9079 - val_loss: 0.3849 - val_acc: 0.8462\n",
            "Epoch 3/3\n",
            "25000/25000 [==============================] - 279s 11ms/step - loss: 0.1445 - acc: 0.9468 - val_loss: 0.4448 - val_acc: 0.8381\n"
          ],
          "name": "stdout"
        },
        {
          "output_type": "execute_result",
          "data": {
            "text/plain": [
              "<keras.callbacks.History at 0x7fb1472077f0>"
            ]
          },
          "metadata": {
            "tags": []
          },
          "execution_count": 43
        }
      ]
    },
    {
      "metadata": {
        "id": "BgkARbiWzmdN",
        "colab_type": "code",
        "colab": {
          "base_uri": "https://localhost:8080/",
          "height": 72
        },
        "outputId": "7af44012-1eb0-4dd4-eb14-c5658dd54b38"
      },
      "cell_type": "code",
      "source": [
        "score, acc = model.evaluate(x_test_seq, y_test, batch_size=32)\n",
        "print(\"Score: \",score)\n",
        "print(\"Accuracy: \",acc)"
      ],
      "execution_count": 45,
      "outputs": [
        {
          "output_type": "stream",
          "text": [
            "25000/25000 [==============================] - 57s 2ms/step\n",
            "Score:  0.44481423910140994\n",
            "Accuracy:  0.83812\n"
          ],
          "name": "stdout"
        }
      ]
    },
    {
      "metadata": {
        "id": "6Y5J3XDjy_9F",
        "colab_type": "text"
      },
      "cell_type": "markdown",
      "source": [
        "## GRU Sentiment Analysis\n"
      ]
    },
    {
      "metadata": {
        "id": "4Ftgw91wwWnT",
        "colab_type": "text"
      },
      "cell_type": "markdown",
      "source": [
        "### What is GRU?\n",
        "GRU is a simplified version of LSTM. Instead of three gates. It has two gates (reset and update). Because of their simplicity GRU's sometimes give better results than LSTM's but not always. It is up to the data scientist to figure out what to use."
      ]
    },
    {
      "metadata": {
        "id": "piMvG9fGyog5",
        "colab_type": "code",
        "colab": {
          "base_uri": "https://localhost:8080/",
          "height": 366
        },
        "outputId": "9514587e-6d76-449f-dbff-4e8430159922"
      },
      "cell_type": "code",
      "source": [
        "gru_input = Input(shape=(100,))\n",
        "embedding = Embedding(num_classification_words, 128, input_length=words_limit)(gru_input)\n",
        "gru = GRU(128)(embedding)\n",
        "dropout = Dropout(0.4)(gru)\n",
        "#dense_middle = Dense(128)(dropout)\n",
        "#dropout2 = Dropout(0.4)(dense_middle)\n",
        "dense = Dense(1)(dropout)\n",
        "activation = Activation('sigmoid')(dense)\n",
        "model = Model(gru_input, activation)\n",
        "model.summary()"
      ],
      "execution_count": 48,
      "outputs": [
        {
          "output_type": "stream",
          "text": [
            "_________________________________________________________________\n",
            "Layer (type)                 Output Shape              Param #   \n",
            "=================================================================\n",
            "input_9 (InputLayer)         (None, 100)               0         \n",
            "_________________________________________________________________\n",
            "embedding_9 (Embedding)      (None, 100, 128)          2560000   \n",
            "_________________________________________________________________\n",
            "gru_1 (GRU)                  (None, 128)               98688     \n",
            "_________________________________________________________________\n",
            "dropout_11 (Dropout)         (None, 128)               0         \n",
            "_________________________________________________________________\n",
            "dense_11 (Dense)             (None, 1)                 129       \n",
            "_________________________________________________________________\n",
            "activation_9 (Activation)    (None, 1)                 0         \n",
            "=================================================================\n",
            "Total params: 2,658,817\n",
            "Trainable params: 2,658,817\n",
            "Non-trainable params: 0\n",
            "_________________________________________________________________\n"
          ],
          "name": "stdout"
        }
      ]
    },
    {
      "metadata": {
        "id": "iE9z8_YkzSSJ",
        "colab_type": "code",
        "colab": {
          "base_uri": "https://localhost:8080/",
          "height": 166
        },
        "outputId": "4c9b111e-e734-4767-cb50-65cb20328a0c"
      },
      "cell_type": "code",
      "source": [
        "model.compile(optimizer='adam', loss='binary_crossentropy', metrics=['accuracy'])\n",
        "history = model.fit(x_train_seq, y_train, batch_size=32, epochs=3, validation_data=(x_test_seq, y_test))"
      ],
      "execution_count": 49,
      "outputs": [
        {
          "output_type": "stream",
          "text": [
            "Train on 25000 samples, validate on 25000 samples\n",
            "Epoch 1/3\n",
            "25000/25000 [==============================] - 228s 9ms/step - loss: 0.4450 - acc: 0.7861 - val_loss: 0.3589 - val_acc: 0.8449\n",
            "Epoch 2/3\n",
            "25000/25000 [==============================] - 225s 9ms/step - loss: 0.2404 - acc: 0.9056 - val_loss: 0.3471 - val_acc: 0.8571\n",
            "Epoch 3/3\n",
            "25000/25000 [==============================] - 227s 9ms/step - loss: 0.1342 - acc: 0.9524 - val_loss: 0.4543 - val_acc: 0.8454\n"
          ],
          "name": "stdout"
        }
      ]
    },
    {
      "metadata": {
        "id": "PWGeeh3nzVIu",
        "colab_type": "code",
        "colab": {
          "base_uri": "https://localhost:8080/",
          "height": 72
        },
        "outputId": "d59e1b11-dd7b-4858-a178-cfc485f44159"
      },
      "cell_type": "code",
      "source": [
        "score, acc = model.evaluate(x_test_seq, y_test, batch_size=32)\n",
        "print(\"Score: \",score)\n",
        "print(\"Accuracy: \",acc)"
      ],
      "execution_count": 51,
      "outputs": [
        {
          "output_type": "stream",
          "text": [
            "25000/25000 [==============================] - 47s 2ms/step\n",
            "Score:  0.45425059258461\n",
            "Accuracy:  0.8454\n"
          ],
          "name": "stdout"
        }
      ]
    },
    {
      "metadata": {
        "id": "jCJuLL5469G6",
        "colab_type": "code",
        "colab": {
          "base_uri": "https://localhost:8080/",
          "height": 35
        },
        "outputId": "4d75cc1e-abbb-4a81-8843-18230efefc84"
      },
      "cell_type": "code",
      "source": [
        "history.history.keys()"
      ],
      "execution_count": 52,
      "outputs": [
        {
          "output_type": "execute_result",
          "data": {
            "text/plain": [
              "dict_keys(['val_loss', 'val_acc', 'loss', 'acc'])"
            ]
          },
          "metadata": {
            "tags": []
          },
          "execution_count": 52
        }
      ]
    },
    {
      "metadata": {
        "id": "S32iv2Jf7Zgi",
        "colab_type": "code",
        "colab": {
          "base_uri": "https://localhost:8080/",
          "height": 34
        },
        "outputId": "d3901bd7-3257-4640-b4b4-cf665421e279"
      },
      "cell_type": "code",
      "source": [
        "p = figure(title=\"Loss History\", x_axis_label='Time', y_axis_label='Loss')\n",
        "range(len(history.history['val_loss']))\n",
        "p.line(range(len(history.history['val_loss'])), history.history['val_loss'], \n",
        "       legend=\"Val. Loss\", line_width=2, line_color='orange')\n",
        "p.line(range(len(history.history['loss'])), history.history['loss'], \n",
        "       legend=\"Loss\", line_width=2, line_color='blue')"
      ],
      "execution_count": 72,
      "outputs": [
        {
          "output_type": "execute_result",
          "data": {
            "text/html": [
              "<div style=\"display: table;\"><div style=\"display: table-row;\"><div style=\"display: table-cell;\"><b title=\"bokeh.models.renderers.GlyphRenderer\">GlyphRenderer</b>(</div><div style=\"display: table-cell;\">id&nbsp;=&nbsp;'8099ef6a-d42a-4a34-859a-30b506ac12c8', <span id=\"65272d53-d4c0-4de8-b736-a93f47c5e4a5\" style=\"cursor: pointer;\">&hellip;)</span></div></div><div class=\"5e754714-be4a-44e8-9be7-b91ea257b4fc\" style=\"display: none;\"><div style=\"display: table-cell;\"></div><div style=\"display: table-cell;\">data_source&nbsp;=&nbsp;ColumnDataSource(id='1de9ba15-90a1-49ef-8052-1657d087b149', ...),</div></div><div class=\"5e754714-be4a-44e8-9be7-b91ea257b4fc\" style=\"display: none;\"><div style=\"display: table-cell;\"></div><div style=\"display: table-cell;\">glyph&nbsp;=&nbsp;Line(id='bd3adcda-80ba-4d10-94ff-78917cf84e1f', ...),</div></div><div class=\"5e754714-be4a-44e8-9be7-b91ea257b4fc\" style=\"display: none;\"><div style=\"display: table-cell;\"></div><div style=\"display: table-cell;\">hover_glyph&nbsp;=&nbsp;None,</div></div><div class=\"5e754714-be4a-44e8-9be7-b91ea257b4fc\" style=\"display: none;\"><div style=\"display: table-cell;\"></div><div style=\"display: table-cell;\">js_event_callbacks&nbsp;=&nbsp;{},</div></div><div class=\"5e754714-be4a-44e8-9be7-b91ea257b4fc\" style=\"display: none;\"><div style=\"display: table-cell;\"></div><div style=\"display: table-cell;\">js_property_callbacks&nbsp;=&nbsp;{},</div></div><div class=\"5e754714-be4a-44e8-9be7-b91ea257b4fc\" style=\"display: none;\"><div style=\"display: table-cell;\"></div><div style=\"display: table-cell;\">level&nbsp;=&nbsp;'glyph',</div></div><div class=\"5e754714-be4a-44e8-9be7-b91ea257b4fc\" style=\"display: none;\"><div style=\"display: table-cell;\"></div><div style=\"display: table-cell;\">muted&nbsp;=&nbsp;False,</div></div><div class=\"5e754714-be4a-44e8-9be7-b91ea257b4fc\" style=\"display: none;\"><div style=\"display: table-cell;\"></div><div style=\"display: table-cell;\">muted_glyph&nbsp;=&nbsp;None,</div></div><div class=\"5e754714-be4a-44e8-9be7-b91ea257b4fc\" style=\"display: none;\"><div style=\"display: table-cell;\"></div><div style=\"display: table-cell;\">name&nbsp;=&nbsp;None,</div></div><div class=\"5e754714-be4a-44e8-9be7-b91ea257b4fc\" style=\"display: none;\"><div style=\"display: table-cell;\"></div><div style=\"display: table-cell;\">nonselection_glyph&nbsp;=&nbsp;Line(id='a31cd7f4-e38e-4e4e-9399-da619dd4b9af', ...),</div></div><div class=\"5e754714-be4a-44e8-9be7-b91ea257b4fc\" style=\"display: none;\"><div style=\"display: table-cell;\"></div><div style=\"display: table-cell;\">selection_glyph&nbsp;=&nbsp;None,</div></div><div class=\"5e754714-be4a-44e8-9be7-b91ea257b4fc\" style=\"display: none;\"><div style=\"display: table-cell;\"></div><div style=\"display: table-cell;\">subscribed_events&nbsp;=&nbsp;[],</div></div><div class=\"5e754714-be4a-44e8-9be7-b91ea257b4fc\" style=\"display: none;\"><div style=\"display: table-cell;\"></div><div style=\"display: table-cell;\">tags&nbsp;=&nbsp;[],</div></div><div class=\"5e754714-be4a-44e8-9be7-b91ea257b4fc\" style=\"display: none;\"><div style=\"display: table-cell;\"></div><div style=\"display: table-cell;\">view&nbsp;=&nbsp;CDSView(id='68c97f9c-708f-4f39-87ee-f824c3a37a9d', ...),</div></div><div class=\"5e754714-be4a-44e8-9be7-b91ea257b4fc\" style=\"display: none;\"><div style=\"display: table-cell;\"></div><div style=\"display: table-cell;\">visible&nbsp;=&nbsp;True,</div></div><div class=\"5e754714-be4a-44e8-9be7-b91ea257b4fc\" style=\"display: none;\"><div style=\"display: table-cell;\"></div><div style=\"display: table-cell;\">x_range_name&nbsp;=&nbsp;'default',</div></div><div class=\"5e754714-be4a-44e8-9be7-b91ea257b4fc\" style=\"display: none;\"><div style=\"display: table-cell;\"></div><div style=\"display: table-cell;\">y_range_name&nbsp;=&nbsp;'default')</div></div></div>\n",
              "<script>\n",
              "(function() {\n",
              "  var expanded = false;\n",
              "  var ellipsis = document.getElementById(\"65272d53-d4c0-4de8-b736-a93f47c5e4a5\");\n",
              "  ellipsis.addEventListener(\"click\", function() {\n",
              "    var rows = document.getElementsByClassName(\"5e754714-be4a-44e8-9be7-b91ea257b4fc\");\n",
              "    for (var i = 0; i < rows.length; i++) {\n",
              "      var el = rows[i];\n",
              "      el.style.display = expanded ? \"none\" : \"table-row\";\n",
              "    }\n",
              "    ellipsis.innerHTML = expanded ? \"&hellip;)\" : \"&lsaquo;&lsaquo;&lsaquo;\";\n",
              "    expanded = !expanded;\n",
              "  });\n",
              "})();\n",
              "</script>\n"
            ],
            "text/plain": [
              "bokeh.models.renderers.GlyphRenderer(\n",
              "    id='8099ef6a-d42a-4a34-859a-30b506ac12c8',\n",
              "    data_source=bokeh.models.sources.ColumnDataSource(\n",
              "        id='1de9ba15-90a1-49ef-8052-1657d087b149',\n",
              "        callback=None,\n",
              "        data={'x': [0, 1, 2],\n",
              "         'y': [0.4449998366355896, 0.24043350867271424, 0.13423719838202]},\n",
              "        js_event_callbacks={},\n",
              "        js_property_callbacks={},\n",
              "        name=None,\n",
              "        selected=bokeh.models.selections.Selection(\n",
              "            id='5bec04ca-6789-4b5a-8823-f75746339b2a',\n",
              "            indices=[],\n",
              "            js_event_callbacks={},\n",
              "            js_property_callbacks={},\n",
              "            line_indices=[],\n",
              "            multiline_indices={},\n",
              "            name=None,\n",
              "            subscribed_events=[],\n",
              "            tags=[]),\n",
              "        selection_policy=bokeh.models.selections.UnionRenderers(\n",
              "            id='ff8f6bd6-a87b-4055-96dc-6d9b1c3539e3',\n",
              "            js_event_callbacks={},\n",
              "            js_property_callbacks={},\n",
              "            name=None,\n",
              "            subscribed_events=[],\n",
              "            tags=[]),\n",
              "        subscribed_events=[],\n",
              "        tags=[]),\n",
              "    glyph=bokeh.models.glyphs.Line(\n",
              "        id='bd3adcda-80ba-4d10-94ff-78917cf84e1f',\n",
              "        js_event_callbacks={},\n",
              "        js_property_callbacks={},\n",
              "        line_alpha=1.0,\n",
              "        line_cap='butt',\n",
              "        line_color='blue',\n",
              "        line_dash=[],\n",
              "        line_dash_offset=0,\n",
              "        line_join='bevel',\n",
              "        line_width=2,\n",
              "        name=None,\n",
              "        subscribed_events=[],\n",
              "        tags=[],\n",
              "        x={'field': 'x'},\n",
              "        y={'field': 'y'}),\n",
              "    hover_glyph=None,\n",
              "    js_event_callbacks={},\n",
              "    js_property_callbacks={},\n",
              "    level='glyph',\n",
              "    muted=False,\n",
              "    muted_glyph=None,\n",
              "    name=None,\n",
              "    nonselection_glyph=bokeh.models.glyphs.Line(\n",
              "        id='a31cd7f4-e38e-4e4e-9399-da619dd4b9af',\n",
              "        js_event_callbacks={},\n",
              "        js_property_callbacks={},\n",
              "        line_alpha=0.1,\n",
              "        line_cap='butt',\n",
              "        line_color='#1f77b4',\n",
              "        line_dash=[],\n",
              "        line_dash_offset=0,\n",
              "        line_join='bevel',\n",
              "        line_width=2,\n",
              "        name=None,\n",
              "        subscribed_events=[],\n",
              "        tags=[],\n",
              "        x={'field': 'x'},\n",
              "        y={'field': 'y'}),\n",
              "    selection_glyph=None,\n",
              "    subscribed_events=[],\n",
              "    tags=[],\n",
              "    view=bokeh.models.sources.CDSView(\n",
              "        id='68c97f9c-708f-4f39-87ee-f824c3a37a9d',\n",
              "        filters=[],\n",
              "        js_event_callbacks={},\n",
              "        js_property_callbacks={},\n",
              "        name=None,\n",
              "        source=bokeh.models.sources.ColumnDataSource(\n",
              "            id='1de9ba15-90a1-49ef-8052-1657d087b149',\n",
              "            callback=None,\n",
              "            data={'x': [0, 1, 2],\n",
              "             'y': [0.4449998366355896, 0.24043350867271424, 0.13423719838202]},\n",
              "            js_event_callbacks={},\n",
              "            js_property_callbacks={},\n",
              "            name=None,\n",
              "            selected=bokeh.models.selections.Selection(\n",
              "                id='5bec04ca-6789-4b5a-8823-f75746339b2a',\n",
              "                indices=[],\n",
              "                js_event_callbacks={},\n",
              "                js_property_callbacks={},\n",
              "                line_indices=[],\n",
              "                multiline_indices={},\n",
              "                name=None,\n",
              "                subscribed_events=[],\n",
              "                tags=[]),\n",
              "            selection_policy=bokeh.models.selections.UnionRenderers(\n",
              "                id='ff8f6bd6-a87b-4055-96dc-6d9b1c3539e3',\n",
              "                js_event_callbacks={},\n",
              "                js_property_callbacks={},\n",
              "                name=None,\n",
              "                subscribed_events=[],\n",
              "                tags=[]),\n",
              "            subscribed_events=[],\n",
              "            tags=[]),\n",
              "        subscribed_events=[],\n",
              "        tags=[]),\n",
              "    visible=True,\n",
              "    x_range_name='default',\n",
              "    y_range_name='default')"
            ]
          },
          "metadata": {
            "tags": []
          },
          "execution_count": 72
        }
      ]
    },
    {
      "metadata": {
        "id": "LEWv49r27mJ3",
        "colab_type": "code",
        "colab": {
          "base_uri": "https://localhost:8080/",
          "height": 647
        },
        "outputId": "2aab8ac2-31ca-4cb9-bbb7-2bbe3d567a41"
      },
      "cell_type": "code",
      "source": [
        "output_notebook()\n",
        "show(p)"
      ],
      "execution_count": 73,
      "outputs": [
        {
          "output_type": "display_data",
          "data": {
            "text/html": [
              "\n",
              "    <div class=\"bk-root\">\n",
              "        <a href=\"https://bokeh.pydata.org\" target=\"_blank\" class=\"bk-logo bk-logo-small bk-logo-notebook\"></a>\n",
              "        <span id=\"2149fd4b-c757-42b3-bb0e-6b642de89942\">Loading BokehJS ...</span>\n",
              "    </div>"
            ]
          },
          "metadata": {
            "tags": []
          }
        },
        {
          "output_type": "display_data",
          "data": {
            "application/javascript": [
              "\n",
              "(function(root) {\n",
              "  function now() {\n",
              "    return new Date();\n",
              "  }\n",
              "\n",
              "  var force = true;\n",
              "\n",
              "  if (typeof (root._bokeh_onload_callbacks) === \"undefined\" || force === true) {\n",
              "    root._bokeh_onload_callbacks = [];\n",
              "    root._bokeh_is_loading = undefined;\n",
              "  }\n",
              "\n",
              "  var JS_MIME_TYPE = 'application/javascript';\n",
              "  var HTML_MIME_TYPE = 'text/html';\n",
              "  var EXEC_MIME_TYPE = 'application/vnd.bokehjs_exec.v0+json';\n",
              "  var CLASS_NAME = 'output_bokeh rendered_html';\n",
              "\n",
              "  /**\n",
              "   * Render data to the DOM node\n",
              "   */\n",
              "  function render(props, node) {\n",
              "    var script = document.createElement(\"script\");\n",
              "    node.appendChild(script);\n",
              "  }\n",
              "\n",
              "  /**\n",
              "   * Handle when an output is cleared or removed\n",
              "   */\n",
              "  function handleClearOutput(event, handle) {\n",
              "    var cell = handle.cell;\n",
              "\n",
              "    var id = cell.output_area._bokeh_element_id;\n",
              "    var server_id = cell.output_area._bokeh_server_id;\n",
              "    // Clean up Bokeh references\n",
              "    if (id != null && id in Bokeh.index) {\n",
              "      Bokeh.index[id].model.document.clear();\n",
              "      delete Bokeh.index[id];\n",
              "    }\n",
              "\n",
              "    if (server_id !== undefined) {\n",
              "      // Clean up Bokeh references\n",
              "      var cmd = \"from bokeh.io.state import curstate; print(curstate().uuid_to_server['\" + server_id + \"'].get_sessions()[0].document.roots[0]._id)\";\n",
              "      cell.notebook.kernel.execute(cmd, {\n",
              "        iopub: {\n",
              "          output: function(msg) {\n",
              "            var id = msg.content.text.trim();\n",
              "            if (id in Bokeh.index) {\n",
              "              Bokeh.index[id].model.document.clear();\n",
              "              delete Bokeh.index[id];\n",
              "            }\n",
              "          }\n",
              "        }\n",
              "      });\n",
              "      // Destroy server and session\n",
              "      var cmd = \"import bokeh.io.notebook as ion; ion.destroy_server('\" + server_id + \"')\";\n",
              "      cell.notebook.kernel.execute(cmd);\n",
              "    }\n",
              "  }\n",
              "\n",
              "  /**\n",
              "   * Handle when a new output is added\n",
              "   */\n",
              "  function handleAddOutput(event, handle) {\n",
              "    var output_area = handle.output_area;\n",
              "    var output = handle.output;\n",
              "\n",
              "    // limit handleAddOutput to display_data with EXEC_MIME_TYPE content only\n",
              "    if ((output.output_type != \"display_data\") || (!output.data.hasOwnProperty(EXEC_MIME_TYPE))) {\n",
              "      return\n",
              "    }\n",
              "\n",
              "    var toinsert = output_area.element.find(\".\" + CLASS_NAME.split(' ')[0]);\n",
              "\n",
              "    if (output.metadata[EXEC_MIME_TYPE][\"id\"] !== undefined) {\n",
              "      toinsert[toinsert.length - 1].firstChild.textContent = output.data[JS_MIME_TYPE];\n",
              "      // store reference to embed id on output_area\n",
              "      output_area._bokeh_element_id = output.metadata[EXEC_MIME_TYPE][\"id\"];\n",
              "    }\n",
              "    if (output.metadata[EXEC_MIME_TYPE][\"server_id\"] !== undefined) {\n",
              "      var bk_div = document.createElement(\"div\");\n",
              "      bk_div.innerHTML = output.data[HTML_MIME_TYPE];\n",
              "      var script_attrs = bk_div.children[0].attributes;\n",
              "      for (var i = 0; i < script_attrs.length; i++) {\n",
              "        toinsert[toinsert.length - 1].firstChild.setAttribute(script_attrs[i].name, script_attrs[i].value);\n",
              "      }\n",
              "      // store reference to server id on output_area\n",
              "      output_area._bokeh_server_id = output.metadata[EXEC_MIME_TYPE][\"server_id\"];\n",
              "    }\n",
              "  }\n",
              "\n",
              "  function register_renderer(events, OutputArea) {\n",
              "\n",
              "    function append_mime(data, metadata, element) {\n",
              "      // create a DOM node to render to\n",
              "      var toinsert = this.create_output_subarea(\n",
              "        metadata,\n",
              "        CLASS_NAME,\n",
              "        EXEC_MIME_TYPE\n",
              "      );\n",
              "      this.keyboard_manager.register_events(toinsert);\n",
              "      // Render to node\n",
              "      var props = {data: data, metadata: metadata[EXEC_MIME_TYPE]};\n",
              "      render(props, toinsert[toinsert.length - 1]);\n",
              "      element.append(toinsert);\n",
              "      return toinsert\n",
              "    }\n",
              "\n",
              "    /* Handle when an output is cleared or removed */\n",
              "    events.on('clear_output.CodeCell', handleClearOutput);\n",
              "    events.on('delete.Cell', handleClearOutput);\n",
              "\n",
              "    /* Handle when a new output is added */\n",
              "    events.on('output_added.OutputArea', handleAddOutput);\n",
              "\n",
              "    /**\n",
              "     * Register the mime type and append_mime function with output_area\n",
              "     */\n",
              "    OutputArea.prototype.register_mime_type(EXEC_MIME_TYPE, append_mime, {\n",
              "      /* Is output safe? */\n",
              "      safe: true,\n",
              "      /* Index of renderer in `output_area.display_order` */\n",
              "      index: 0\n",
              "    });\n",
              "  }\n",
              "\n",
              "  // register the mime type if in Jupyter Notebook environment and previously unregistered\n",
              "  if (root.Jupyter !== undefined) {\n",
              "    var events = require('base/js/events');\n",
              "    var OutputArea = require('notebook/js/outputarea').OutputArea;\n",
              "\n",
              "    if (OutputArea.prototype.mime_types().indexOf(EXEC_MIME_TYPE) == -1) {\n",
              "      register_renderer(events, OutputArea);\n",
              "    }\n",
              "  }\n",
              "\n",
              "  \n",
              "  if (typeof (root._bokeh_timeout) === \"undefined\" || force === true) {\n",
              "    root._bokeh_timeout = Date.now() + 5000;\n",
              "    root._bokeh_failed_load = false;\n",
              "  }\n",
              "\n",
              "  var NB_LOAD_WARNING = {'data': {'text/html':\n",
              "     \"<div style='background-color: #fdd'>\\n\"+\n",
              "     \"<p>\\n\"+\n",
              "     \"BokehJS does not appear to have successfully loaded. If loading BokehJS from CDN, this \\n\"+\n",
              "     \"may be due to a slow or bad network connection. Possible fixes:\\n\"+\n",
              "     \"</p>\\n\"+\n",
              "     \"<ul>\\n\"+\n",
              "     \"<li>re-rerun `output_notebook()` to attempt to load from CDN again, or</li>\\n\"+\n",
              "     \"<li>use INLINE resources instead, as so:</li>\\n\"+\n",
              "     \"</ul>\\n\"+\n",
              "     \"<code>\\n\"+\n",
              "     \"from bokeh.resources import INLINE\\n\"+\n",
              "     \"output_notebook(resources=INLINE)\\n\"+\n",
              "     \"</code>\\n\"+\n",
              "     \"</div>\"}};\n",
              "\n",
              "  function display_loaded() {\n",
              "    var el = document.getElementById(\"2149fd4b-c757-42b3-bb0e-6b642de89942\");\n",
              "    if (el != null) {\n",
              "      el.textContent = \"BokehJS is loading...\";\n",
              "    }\n",
              "    if (root.Bokeh !== undefined) {\n",
              "      if (el != null) {\n",
              "        el.textContent = \"BokehJS \" + root.Bokeh.version + \" successfully loaded.\";\n",
              "      }\n",
              "    } else if (Date.now() < root._bokeh_timeout) {\n",
              "      setTimeout(display_loaded, 100)\n",
              "    }\n",
              "  }\n",
              "\n",
              "\n",
              "  function run_callbacks() {\n",
              "    try {\n",
              "      root._bokeh_onload_callbacks.forEach(function(callback) { callback() });\n",
              "    }\n",
              "    finally {\n",
              "      delete root._bokeh_onload_callbacks\n",
              "    }\n",
              "    console.info(\"Bokeh: all callbacks have finished\");\n",
              "  }\n",
              "\n",
              "  function load_libs(js_urls, callback) {\n",
              "    root._bokeh_onload_callbacks.push(callback);\n",
              "    if (root._bokeh_is_loading > 0) {\n",
              "      console.log(\"Bokeh: BokehJS is being loaded, scheduling callback at\", now());\n",
              "      return null;\n",
              "    }\n",
              "    if (js_urls == null || js_urls.length === 0) {\n",
              "      run_callbacks();\n",
              "      return null;\n",
              "    }\n",
              "    console.log(\"Bokeh: BokehJS not loaded, scheduling load and callback at\", now());\n",
              "    root._bokeh_is_loading = js_urls.length;\n",
              "    for (var i = 0; i < js_urls.length; i++) {\n",
              "      var url = js_urls[i];\n",
              "      var s = document.createElement('script');\n",
              "      s.src = url;\n",
              "      s.async = false;\n",
              "      s.onreadystatechange = s.onload = function() {\n",
              "        root._bokeh_is_loading--;\n",
              "        if (root._bokeh_is_loading === 0) {\n",
              "          console.log(\"Bokeh: all BokehJS libraries loaded\");\n",
              "          run_callbacks()\n",
              "        }\n",
              "      };\n",
              "      s.onerror = function() {\n",
              "        console.warn(\"failed to load library \" + url);\n",
              "      };\n",
              "      console.log(\"Bokeh: injecting script tag for BokehJS library: \", url);\n",
              "      document.getElementsByTagName(\"head\")[0].appendChild(s);\n",
              "    }\n",
              "  };var element = document.getElementById(\"2149fd4b-c757-42b3-bb0e-6b642de89942\");\n",
              "  if (element == null) {\n",
              "    console.log(\"Bokeh: ERROR: autoload.js configured with elementid '2149fd4b-c757-42b3-bb0e-6b642de89942' but no matching script tag was found. \")\n",
              "    return false;\n",
              "  }\n",
              "\n",
              "  var js_urls = [\"https://cdn.pydata.org/bokeh/release/bokeh-0.13.0.min.js\", \"https://cdn.pydata.org/bokeh/release/bokeh-widgets-0.13.0.min.js\", \"https://cdn.pydata.org/bokeh/release/bokeh-tables-0.13.0.min.js\", \"https://cdn.pydata.org/bokeh/release/bokeh-gl-0.13.0.min.js\"];\n",
              "\n",
              "  var inline_js = [\n",
              "    function(Bokeh) {\n",
              "      Bokeh.set_log_level(\"info\");\n",
              "    },\n",
              "    \n",
              "    function(Bokeh) {\n",
              "      \n",
              "    },\n",
              "    function(Bokeh) {\n",
              "      console.log(\"Bokeh: injecting CSS: https://cdn.pydata.org/bokeh/release/bokeh-0.13.0.min.css\");\n",
              "      Bokeh.embed.inject_css(\"https://cdn.pydata.org/bokeh/release/bokeh-0.13.0.min.css\");\n",
              "      console.log(\"Bokeh: injecting CSS: https://cdn.pydata.org/bokeh/release/bokeh-widgets-0.13.0.min.css\");\n",
              "      Bokeh.embed.inject_css(\"https://cdn.pydata.org/bokeh/release/bokeh-widgets-0.13.0.min.css\");\n",
              "      console.log(\"Bokeh: injecting CSS: https://cdn.pydata.org/bokeh/release/bokeh-tables-0.13.0.min.css\");\n",
              "      Bokeh.embed.inject_css(\"https://cdn.pydata.org/bokeh/release/bokeh-tables-0.13.0.min.css\");\n",
              "    }\n",
              "  ];\n",
              "\n",
              "  function run_inline_js() {\n",
              "    \n",
              "    if ((root.Bokeh !== undefined) || (force === true)) {\n",
              "      for (var i = 0; i < inline_js.length; i++) {\n",
              "        inline_js[i].call(root, root.Bokeh);\n",
              "      }if (force === true) {\n",
              "        display_loaded();\n",
              "      }} else if (Date.now() < root._bokeh_timeout) {\n",
              "      setTimeout(run_inline_js, 100);\n",
              "    } else if (!root._bokeh_failed_load) {\n",
              "      console.log(\"Bokeh: BokehJS failed to load within specified timeout.\");\n",
              "      root._bokeh_failed_load = true;\n",
              "    } else if (force !== true) {\n",
              "      var cell = $(document.getElementById(\"2149fd4b-c757-42b3-bb0e-6b642de89942\")).parents('.cell').data().cell;\n",
              "      cell.output_area.append_execute_result(NB_LOAD_WARNING)\n",
              "    }\n",
              "\n",
              "  }\n",
              "\n",
              "  if (root._bokeh_is_loading === 0) {\n",
              "    console.log(\"Bokeh: BokehJS loaded, going straight to plotting\");\n",
              "    run_inline_js();\n",
              "  } else {\n",
              "    load_libs(js_urls, function() {\n",
              "      console.log(\"Bokeh: BokehJS plotting callback run at\", now());\n",
              "      run_inline_js();\n",
              "    });\n",
              "  }\n",
              "}(window));"
            ],
            "application/vnd.bokehjs_load.v0+json": "\n(function(root) {\n  function now() {\n    return new Date();\n  }\n\n  var force = true;\n\n  if (typeof (root._bokeh_onload_callbacks) === \"undefined\" || force === true) {\n    root._bokeh_onload_callbacks = [];\n    root._bokeh_is_loading = undefined;\n  }\n\n  \n\n  \n  if (typeof (root._bokeh_timeout) === \"undefined\" || force === true) {\n    root._bokeh_timeout = Date.now() + 5000;\n    root._bokeh_failed_load = false;\n  }\n\n  var NB_LOAD_WARNING = {'data': {'text/html':\n     \"<div style='background-color: #fdd'>\\n\"+\n     \"<p>\\n\"+\n     \"BokehJS does not appear to have successfully loaded. If loading BokehJS from CDN, this \\n\"+\n     \"may be due to a slow or bad network connection. Possible fixes:\\n\"+\n     \"</p>\\n\"+\n     \"<ul>\\n\"+\n     \"<li>re-rerun `output_notebook()` to attempt to load from CDN again, or</li>\\n\"+\n     \"<li>use INLINE resources instead, as so:</li>\\n\"+\n     \"</ul>\\n\"+\n     \"<code>\\n\"+\n     \"from bokeh.resources import INLINE\\n\"+\n     \"output_notebook(resources=INLINE)\\n\"+\n     \"</code>\\n\"+\n     \"</div>\"}};\n\n  function display_loaded() {\n    var el = document.getElementById(\"2149fd4b-c757-42b3-bb0e-6b642de89942\");\n    if (el != null) {\n      el.textContent = \"BokehJS is loading...\";\n    }\n    if (root.Bokeh !== undefined) {\n      if (el != null) {\n        el.textContent = \"BokehJS \" + root.Bokeh.version + \" successfully loaded.\";\n      }\n    } else if (Date.now() < root._bokeh_timeout) {\n      setTimeout(display_loaded, 100)\n    }\n  }\n\n\n  function run_callbacks() {\n    try {\n      root._bokeh_onload_callbacks.forEach(function(callback) { callback() });\n    }\n    finally {\n      delete root._bokeh_onload_callbacks\n    }\n    console.info(\"Bokeh: all callbacks have finished\");\n  }\n\n  function load_libs(js_urls, callback) {\n    root._bokeh_onload_callbacks.push(callback);\n    if (root._bokeh_is_loading > 0) {\n      console.log(\"Bokeh: BokehJS is being loaded, scheduling callback at\", now());\n      return null;\n    }\n    if (js_urls == null || js_urls.length === 0) {\n      run_callbacks();\n      return null;\n    }\n    console.log(\"Bokeh: BokehJS not loaded, scheduling load and callback at\", now());\n    root._bokeh_is_loading = js_urls.length;\n    for (var i = 0; i < js_urls.length; i++) {\n      var url = js_urls[i];\n      var s = document.createElement('script');\n      s.src = url;\n      s.async = false;\n      s.onreadystatechange = s.onload = function() {\n        root._bokeh_is_loading--;\n        if (root._bokeh_is_loading === 0) {\n          console.log(\"Bokeh: all BokehJS libraries loaded\");\n          run_callbacks()\n        }\n      };\n      s.onerror = function() {\n        console.warn(\"failed to load library \" + url);\n      };\n      console.log(\"Bokeh: injecting script tag for BokehJS library: \", url);\n      document.getElementsByTagName(\"head\")[0].appendChild(s);\n    }\n  };var element = document.getElementById(\"2149fd4b-c757-42b3-bb0e-6b642de89942\");\n  if (element == null) {\n    console.log(\"Bokeh: ERROR: autoload.js configured with elementid '2149fd4b-c757-42b3-bb0e-6b642de89942' but no matching script tag was found. \")\n    return false;\n  }\n\n  var js_urls = [\"https://cdn.pydata.org/bokeh/release/bokeh-0.13.0.min.js\", \"https://cdn.pydata.org/bokeh/release/bokeh-widgets-0.13.0.min.js\", \"https://cdn.pydata.org/bokeh/release/bokeh-tables-0.13.0.min.js\", \"https://cdn.pydata.org/bokeh/release/bokeh-gl-0.13.0.min.js\"];\n\n  var inline_js = [\n    function(Bokeh) {\n      Bokeh.set_log_level(\"info\");\n    },\n    \n    function(Bokeh) {\n      \n    },\n    function(Bokeh) {\n      console.log(\"Bokeh: injecting CSS: https://cdn.pydata.org/bokeh/release/bokeh-0.13.0.min.css\");\n      Bokeh.embed.inject_css(\"https://cdn.pydata.org/bokeh/release/bokeh-0.13.0.min.css\");\n      console.log(\"Bokeh: injecting CSS: https://cdn.pydata.org/bokeh/release/bokeh-widgets-0.13.0.min.css\");\n      Bokeh.embed.inject_css(\"https://cdn.pydata.org/bokeh/release/bokeh-widgets-0.13.0.min.css\");\n      console.log(\"Bokeh: injecting CSS: https://cdn.pydata.org/bokeh/release/bokeh-tables-0.13.0.min.css\");\n      Bokeh.embed.inject_css(\"https://cdn.pydata.org/bokeh/release/bokeh-tables-0.13.0.min.css\");\n    }\n  ];\n\n  function run_inline_js() {\n    \n    if ((root.Bokeh !== undefined) || (force === true)) {\n      for (var i = 0; i < inline_js.length; i++) {\n        inline_js[i].call(root, root.Bokeh);\n      }if (force === true) {\n        display_loaded();\n      }} else if (Date.now() < root._bokeh_timeout) {\n      setTimeout(run_inline_js, 100);\n    } else if (!root._bokeh_failed_load) {\n      console.log(\"Bokeh: BokehJS failed to load within specified timeout.\");\n      root._bokeh_failed_load = true;\n    } else if (force !== true) {\n      var cell = $(document.getElementById(\"2149fd4b-c757-42b3-bb0e-6b642de89942\")).parents('.cell').data().cell;\n      cell.output_area.append_execute_result(NB_LOAD_WARNING)\n    }\n\n  }\n\n  if (root._bokeh_is_loading === 0) {\n    console.log(\"Bokeh: BokehJS loaded, going straight to plotting\");\n    run_inline_js();\n  } else {\n    load_libs(js_urls, function() {\n      console.log(\"Bokeh: BokehJS plotting callback run at\", now());\n      run_inline_js();\n    });\n  }\n}(window));"
          },
          "metadata": {
            "tags": []
          }
        },
        {
          "output_type": "display_data",
          "data": {
            "text/html": [
              "\n",
              "\n",
              "\n",
              "\n",
              "\n",
              "\n",
              "  <div class=\"bk-root\" id=\"00d57002-0dfe-4cf0-ad25-5f6acbfc2e9c\"></div>\n"
            ]
          },
          "metadata": {
            "tags": []
          }
        },
        {
          "output_type": "display_data",
          "data": {
            "application/javascript": [
              "(function(root) {\n",
              "  function embed_document(root) {\n",
              "    \n",
              "  var docs_json = {\"100d5a8a-56bf-41fd-9747-9aae80ad877a\":{\"roots\":{\"references\":[{\"attributes\":{},\"id\":\"714278e0-ab5e-45fa-85fb-5544c70cc95c\",\"type\":\"ResetTool\"},{\"attributes\":{\"source\":{\"id\":\"4d7b59dd-c402-49a1-a049-721b345ae268\",\"type\":\"ColumnDataSource\"}},\"id\":\"e27b0641-03c1-461f-be17-2fdf421b3669\",\"type\":\"CDSView\"},{\"attributes\":{},\"id\":\"19699101-86b4-4439-875b-99d023c4d8fa\",\"type\":\"SaveTool\"},{\"attributes\":{\"active_drag\":\"auto\",\"active_inspect\":\"auto\",\"active_multi\":null,\"active_scroll\":\"auto\",\"active_tap\":\"auto\",\"tools\":[{\"id\":\"cdd6a469-bbc2-4493-95c8-e4de8b1cfc24\",\"type\":\"PanTool\"},{\"id\":\"a91414e1-442f-4b84-9d88-96f51b4416f2\",\"type\":\"WheelZoomTool\"},{\"id\":\"48eb9ea0-da30-42b1-8f96-4acfc6c41cca\",\"type\":\"BoxZoomTool\"},{\"id\":\"19699101-86b4-4439-875b-99d023c4d8fa\",\"type\":\"SaveTool\"},{\"id\":\"714278e0-ab5e-45fa-85fb-5544c70cc95c\",\"type\":\"ResetTool\"},{\"id\":\"148c10d3-7235-4544-844c-9681dc68435d\",\"type\":\"HelpTool\"}]},\"id\":\"104f9b70-e193-44bc-adbc-ff57c4b5478b\",\"type\":\"Toolbar\"},{\"attributes\":{},\"id\":\"a2af9645-5cbb-4589-999b-742d05dab14e\",\"type\":\"Selection\"},{\"attributes\":{\"data_source\":{\"id\":\"4d7b59dd-c402-49a1-a049-721b345ae268\",\"type\":\"ColumnDataSource\"},\"glyph\":{\"id\":\"c7a6aef1-b7c8-4732-b2d0-02737a973617\",\"type\":\"Line\"},\"hover_glyph\":null,\"muted_glyph\":null,\"nonselection_glyph\":{\"id\":\"08b36b49-3de8-4536-85c1-3eef1c3deaa5\",\"type\":\"Line\"},\"selection_glyph\":null,\"view\":{\"id\":\"e27b0641-03c1-461f-be17-2fdf421b3669\",\"type\":\"CDSView\"}},\"id\":\"fa286771-4753-406c-8f87-d1b0634b1c8b\",\"type\":\"GlyphRenderer\"},{\"attributes\":{\"callback\":null,\"data\":{\"x\":[0,1,2],\"y\":[0.4449998366355896,0.24043350867271424,0.13423719838202]},\"selected\":{\"id\":\"5bec04ca-6789-4b5a-8823-f75746339b2a\",\"type\":\"Selection\"},\"selection_policy\":{\"id\":\"ff8f6bd6-a87b-4055-96dc-6d9b1c3539e3\",\"type\":\"UnionRenderers\"}},\"id\":\"1de9ba15-90a1-49ef-8052-1657d087b149\",\"type\":\"ColumnDataSource\"},{\"attributes\":{\"items\":[{\"id\":\"aa5b08d2-bcaf-476d-8bd5-de7920ba1068\",\"type\":\"LegendItem\"},{\"id\":\"617dda3d-8366-4813-b240-0e03df350b9f\",\"type\":\"LegendItem\"}],\"plot\":{\"id\":\"f7f46f5f-223d-4c6b-8529-0ad09c46a832\",\"subtype\":\"Figure\",\"type\":\"Plot\"}},\"id\":\"262434ac-9997-4fd8-8c1e-f5164ef46c67\",\"type\":\"Legend\"},{\"attributes\":{\"plot\":null,\"text\":\"Loss History\"},\"id\":\"fda0bb46-a59b-4c62-8d9b-85a4bbc5f132\",\"type\":\"Title\"},{\"attributes\":{\"axis_label\":\"Time\",\"formatter\":{\"id\":\"2b4decbd-dbf3-411e-b6ce-09b8dff18769\",\"type\":\"BasicTickFormatter\"},\"plot\":{\"id\":\"f7f46f5f-223d-4c6b-8529-0ad09c46a832\",\"subtype\":\"Figure\",\"type\":\"Plot\"},\"ticker\":{\"id\":\"8cd92108-377f-450c-ad35-630384d192a3\",\"type\":\"BasicTicker\"}},\"id\":\"dc765341-ad63-4a5d-898e-c0b3480403b9\",\"type\":\"LinearAxis\"},{\"attributes\":{\"overlay\":{\"id\":\"e8c20611-0db3-4b60-947e-e3ea3cbd021c\",\"type\":\"BoxAnnotation\"}},\"id\":\"48eb9ea0-da30-42b1-8f96-4acfc6c41cca\",\"type\":\"BoxZoomTool\"},{\"attributes\":{},\"id\":\"a91414e1-442f-4b84-9d88-96f51b4416f2\",\"type\":\"WheelZoomTool\"},{\"attributes\":{\"line_alpha\":0.1,\"line_color\":\"#1f77b4\",\"line_width\":2,\"x\":{\"field\":\"x\"},\"y\":{\"field\":\"y\"}},\"id\":\"a31cd7f4-e38e-4e4e-9399-da619dd4b9af\",\"type\":\"Line\"},{\"attributes\":{\"axis_label\":\"Loss\",\"formatter\":{\"id\":\"788566a5-d0d4-4d27-bf0e-d61dc09a5b81\",\"type\":\"BasicTickFormatter\"},\"plot\":{\"id\":\"f7f46f5f-223d-4c6b-8529-0ad09c46a832\",\"subtype\":\"Figure\",\"type\":\"Plot\"},\"ticker\":{\"id\":\"013183d1-55ca-499d-a809-f96dbbdbbdb7\",\"type\":\"BasicTicker\"}},\"id\":\"7d25976e-7cef-448f-a543-6d170262c718\",\"type\":\"LinearAxis\"},{\"attributes\":{\"bottom_units\":\"screen\",\"fill_alpha\":{\"value\":0.5},\"fill_color\":{\"value\":\"lightgrey\"},\"left_units\":\"screen\",\"level\":\"overlay\",\"line_alpha\":{\"value\":1.0},\"line_color\":{\"value\":\"black\"},\"line_dash\":[4,4],\"line_width\":{\"value\":2},\"plot\":null,\"render_mode\":\"css\",\"right_units\":\"screen\",\"top_units\":\"screen\"},\"id\":\"e8c20611-0db3-4b60-947e-e3ea3cbd021c\",\"type\":\"BoxAnnotation\"},{\"attributes\":{\"data_source\":{\"id\":\"1de9ba15-90a1-49ef-8052-1657d087b149\",\"type\":\"ColumnDataSource\"},\"glyph\":{\"id\":\"bd3adcda-80ba-4d10-94ff-78917cf84e1f\",\"type\":\"Line\"},\"hover_glyph\":null,\"muted_glyph\":null,\"nonselection_glyph\":{\"id\":\"a31cd7f4-e38e-4e4e-9399-da619dd4b9af\",\"type\":\"Line\"},\"selection_glyph\":null,\"view\":{\"id\":\"68c97f9c-708f-4f39-87ee-f824c3a37a9d\",\"type\":\"CDSView\"}},\"id\":\"8099ef6a-d42a-4a34-859a-30b506ac12c8\",\"type\":\"GlyphRenderer\"},{\"attributes\":{},\"id\":\"22a55ded-dfef-4bae-8173-34f14b99e4c2\",\"type\":\"LinearScale\"},{\"attributes\":{\"indices\":[],\"line_indices\":[]},\"id\":\"5bec04ca-6789-4b5a-8823-f75746339b2a\",\"type\":\"Selection\"},{\"attributes\":{},\"id\":\"8cd92108-377f-450c-ad35-630384d192a3\",\"type\":\"BasicTicker\"},{\"attributes\":{\"line_alpha\":0.1,\"line_color\":\"#1f77b4\",\"line_width\":2,\"x\":{\"field\":\"x\"},\"y\":{\"field\":\"y\"}},\"id\":\"08b36b49-3de8-4536-85c1-3eef1c3deaa5\",\"type\":\"Line\"},{\"attributes\":{\"line_color\":\"orange\",\"line_width\":2,\"x\":{\"field\":\"x\"},\"y\":{\"field\":\"y\"}},\"id\":\"c7a6aef1-b7c8-4732-b2d0-02737a973617\",\"type\":\"Line\"},{\"attributes\":{},\"id\":\"788566a5-d0d4-4d27-bf0e-d61dc09a5b81\",\"type\":\"BasicTickFormatter\"},{\"attributes\":{\"callback\":null,\"data\":{\"x\":[0,1,2],\"y\":[0.3588617109107971,0.3470780664920807,0.45425059258461]},\"selected\":{\"id\":\"a2af9645-5cbb-4589-999b-742d05dab14e\",\"type\":\"Selection\"},\"selection_policy\":{\"id\":\"5dd5ae19-91ce-4e36-8633-37687825c68a\",\"type\":\"UnionRenderers\"}},\"id\":\"4d7b59dd-c402-49a1-a049-721b345ae268\",\"type\":\"ColumnDataSource\"},{\"attributes\":{},\"id\":\"ff8f6bd6-a87b-4055-96dc-6d9b1c3539e3\",\"type\":\"UnionRenderers\"},{\"attributes\":{},\"id\":\"5dd5ae19-91ce-4e36-8633-37687825c68a\",\"type\":\"UnionRenderers\"},{\"attributes\":{\"line_color\":\"blue\",\"line_width\":2,\"x\":{\"field\":\"x\"},\"y\":{\"field\":\"y\"}},\"id\":\"bd3adcda-80ba-4d10-94ff-78917cf84e1f\",\"type\":\"Line\"},{\"attributes\":{},\"id\":\"2b4decbd-dbf3-411e-b6ce-09b8dff18769\",\"type\":\"BasicTickFormatter\"},{\"attributes\":{\"below\":[{\"id\":\"dc765341-ad63-4a5d-898e-c0b3480403b9\",\"type\":\"LinearAxis\"}],\"left\":[{\"id\":\"7d25976e-7cef-448f-a543-6d170262c718\",\"type\":\"LinearAxis\"}],\"renderers\":[{\"id\":\"dc765341-ad63-4a5d-898e-c0b3480403b9\",\"type\":\"LinearAxis\"},{\"id\":\"9ca0690b-46d9-4775-a5f6-8913ae4c4c9e\",\"type\":\"Grid\"},{\"id\":\"7d25976e-7cef-448f-a543-6d170262c718\",\"type\":\"LinearAxis\"},{\"id\":\"43253d80-e42f-4019-98a6-47642c566f39\",\"type\":\"Grid\"},{\"id\":\"e8c20611-0db3-4b60-947e-e3ea3cbd021c\",\"type\":\"BoxAnnotation\"},{\"id\":\"262434ac-9997-4fd8-8c1e-f5164ef46c67\",\"type\":\"Legend\"},{\"id\":\"fa286771-4753-406c-8f87-d1b0634b1c8b\",\"type\":\"GlyphRenderer\"},{\"id\":\"8099ef6a-d42a-4a34-859a-30b506ac12c8\",\"type\":\"GlyphRenderer\"}],\"title\":{\"id\":\"fda0bb46-a59b-4c62-8d9b-85a4bbc5f132\",\"type\":\"Title\"},\"toolbar\":{\"id\":\"104f9b70-e193-44bc-adbc-ff57c4b5478b\",\"type\":\"Toolbar\"},\"x_range\":{\"id\":\"7db61fb4-2352-43f9-9761-2e103b261ce9\",\"type\":\"DataRange1d\"},\"x_scale\":{\"id\":\"22a55ded-dfef-4bae-8173-34f14b99e4c2\",\"type\":\"LinearScale\"},\"y_range\":{\"id\":\"ebcc1751-ad7b-402b-9857-c8782558a528\",\"type\":\"DataRange1d\"},\"y_scale\":{\"id\":\"11d424e2-023d-47e0-9665-07c9d86513de\",\"type\":\"LinearScale\"}},\"id\":\"f7f46f5f-223d-4c6b-8529-0ad09c46a832\",\"subtype\":\"Figure\",\"type\":\"Plot\"},{\"attributes\":{},\"id\":\"cdd6a469-bbc2-4493-95c8-e4de8b1cfc24\",\"type\":\"PanTool\"},{\"attributes\":{\"source\":{\"id\":\"1de9ba15-90a1-49ef-8052-1657d087b149\",\"type\":\"ColumnDataSource\"}},\"id\":\"68c97f9c-708f-4f39-87ee-f824c3a37a9d\",\"type\":\"CDSView\"},{\"attributes\":{},\"id\":\"013183d1-55ca-499d-a809-f96dbbdbbdb7\",\"type\":\"BasicTicker\"},{\"attributes\":{\"callback\":null},\"id\":\"7db61fb4-2352-43f9-9761-2e103b261ce9\",\"type\":\"DataRange1d\"},{\"attributes\":{\"plot\":{\"id\":\"f7f46f5f-223d-4c6b-8529-0ad09c46a832\",\"subtype\":\"Figure\",\"type\":\"Plot\"},\"ticker\":{\"id\":\"8cd92108-377f-450c-ad35-630384d192a3\",\"type\":\"BasicTicker\"}},\"id\":\"9ca0690b-46d9-4775-a5f6-8913ae4c4c9e\",\"type\":\"Grid\"},{\"attributes\":{},\"id\":\"11d424e2-023d-47e0-9665-07c9d86513de\",\"type\":\"LinearScale\"},{\"attributes\":{\"dimension\":1,\"plot\":{\"id\":\"f7f46f5f-223d-4c6b-8529-0ad09c46a832\",\"subtype\":\"Figure\",\"type\":\"Plot\"},\"ticker\":{\"id\":\"013183d1-55ca-499d-a809-f96dbbdbbdb7\",\"type\":\"BasicTicker\"}},\"id\":\"43253d80-e42f-4019-98a6-47642c566f39\",\"type\":\"Grid\"},{\"attributes\":{},\"id\":\"148c10d3-7235-4544-844c-9681dc68435d\",\"type\":\"HelpTool\"},{\"attributes\":{\"label\":{\"value\":\"Val. Loss\"},\"renderers\":[{\"id\":\"fa286771-4753-406c-8f87-d1b0634b1c8b\",\"type\":\"GlyphRenderer\"}]},\"id\":\"aa5b08d2-bcaf-476d-8bd5-de7920ba1068\",\"type\":\"LegendItem\"},{\"attributes\":{\"callback\":null},\"id\":\"ebcc1751-ad7b-402b-9857-c8782558a528\",\"type\":\"DataRange1d\"},{\"attributes\":{\"label\":{\"value\":\"Loss\"},\"renderers\":[{\"id\":\"8099ef6a-d42a-4a34-859a-30b506ac12c8\",\"type\":\"GlyphRenderer\"}]},\"id\":\"617dda3d-8366-4813-b240-0e03df350b9f\",\"type\":\"LegendItem\"}],\"root_ids\":[\"f7f46f5f-223d-4c6b-8529-0ad09c46a832\"]},\"title\":\"Bokeh Application\",\"version\":\"0.13.0\"}};\n",
              "  var render_items = [{\"docid\":\"100d5a8a-56bf-41fd-9747-9aae80ad877a\",\"roots\":{\"f7f46f5f-223d-4c6b-8529-0ad09c46a832\":\"00d57002-0dfe-4cf0-ad25-5f6acbfc2e9c\"}}];\n",
              "  root.Bokeh.embed.embed_items_notebook(docs_json, render_items);\n",
              "\n",
              "  }\n",
              "  if (root.Bokeh !== undefined) {\n",
              "    embed_document(root);\n",
              "  } else {\n",
              "    var attempts = 0;\n",
              "    var timer = setInterval(function(root) {\n",
              "      if (root.Bokeh !== undefined) {\n",
              "        embed_document(root);\n",
              "        clearInterval(timer);\n",
              "      }\n",
              "      attempts++;\n",
              "      if (attempts > 100) {\n",
              "        console.log(\"Bokeh: ERROR: Unable to run BokehJS code because BokehJS library is missing\")\n",
              "        clearInterval(timer);\n",
              "      }\n",
              "    }, 10, root)\n",
              "  }\n",
              "})(window);"
            ],
            "application/vnd.bokehjs_exec.v0+json": ""
          },
          "metadata": {
            "tags": [],
            "application/vnd.bokehjs_exec.v0+json": {
              "id": "f7f46f5f-223d-4c6b-8529-0ad09c46a832"
            }
          }
        }
      ]
    },
    {
      "metadata": {
        "id": "1yamMcPa9Yte",
        "colab_type": "code",
        "colab": {
          "base_uri": "https://localhost:8080/",
          "height": 647
        },
        "outputId": "373d6c9e-2db2-4bc5-a940-205d64bafd4a"
      },
      "cell_type": "code",
      "source": [
        "p = figure(title=\"Accuracy History\", x_axis_label='Time', y_axis_label='Loss')\n",
        "p.line(range(len(history.history['val_acc'])), history.history['val_acc'], \n",
        "       legend=\"Val. Acc\", line_width=2, line_color='orange')\n",
        "p.line(range(len(history.history['acc'])), history.history['acc'], \n",
        "       legend=\"Acc\", line_width=2, line_color='blue')\n",
        "output_notebook()\n",
        "show(p)"
      ],
      "execution_count": 76,
      "outputs": [
        {
          "output_type": "display_data",
          "data": {
            "text/html": [
              "\n",
              "    <div class=\"bk-root\">\n",
              "        <a href=\"https://bokeh.pydata.org\" target=\"_blank\" class=\"bk-logo bk-logo-small bk-logo-notebook\"></a>\n",
              "        <span id=\"8d57fc99-387b-45d1-b0d4-e734b76c19ee\">Loading BokehJS ...</span>\n",
              "    </div>"
            ]
          },
          "metadata": {
            "tags": []
          }
        },
        {
          "output_type": "display_data",
          "data": {
            "application/javascript": [
              "\n",
              "(function(root) {\n",
              "  function now() {\n",
              "    return new Date();\n",
              "  }\n",
              "\n",
              "  var force = true;\n",
              "\n",
              "  if (typeof (root._bokeh_onload_callbacks) === \"undefined\" || force === true) {\n",
              "    root._bokeh_onload_callbacks = [];\n",
              "    root._bokeh_is_loading = undefined;\n",
              "  }\n",
              "\n",
              "  var JS_MIME_TYPE = 'application/javascript';\n",
              "  var HTML_MIME_TYPE = 'text/html';\n",
              "  var EXEC_MIME_TYPE = 'application/vnd.bokehjs_exec.v0+json';\n",
              "  var CLASS_NAME = 'output_bokeh rendered_html';\n",
              "\n",
              "  /**\n",
              "   * Render data to the DOM node\n",
              "   */\n",
              "  function render(props, node) {\n",
              "    var script = document.createElement(\"script\");\n",
              "    node.appendChild(script);\n",
              "  }\n",
              "\n",
              "  /**\n",
              "   * Handle when an output is cleared or removed\n",
              "   */\n",
              "  function handleClearOutput(event, handle) {\n",
              "    var cell = handle.cell;\n",
              "\n",
              "    var id = cell.output_area._bokeh_element_id;\n",
              "    var server_id = cell.output_area._bokeh_server_id;\n",
              "    // Clean up Bokeh references\n",
              "    if (id != null && id in Bokeh.index) {\n",
              "      Bokeh.index[id].model.document.clear();\n",
              "      delete Bokeh.index[id];\n",
              "    }\n",
              "\n",
              "    if (server_id !== undefined) {\n",
              "      // Clean up Bokeh references\n",
              "      var cmd = \"from bokeh.io.state import curstate; print(curstate().uuid_to_server['\" + server_id + \"'].get_sessions()[0].document.roots[0]._id)\";\n",
              "      cell.notebook.kernel.execute(cmd, {\n",
              "        iopub: {\n",
              "          output: function(msg) {\n",
              "            var id = msg.content.text.trim();\n",
              "            if (id in Bokeh.index) {\n",
              "              Bokeh.index[id].model.document.clear();\n",
              "              delete Bokeh.index[id];\n",
              "            }\n",
              "          }\n",
              "        }\n",
              "      });\n",
              "      // Destroy server and session\n",
              "      var cmd = \"import bokeh.io.notebook as ion; ion.destroy_server('\" + server_id + \"')\";\n",
              "      cell.notebook.kernel.execute(cmd);\n",
              "    }\n",
              "  }\n",
              "\n",
              "  /**\n",
              "   * Handle when a new output is added\n",
              "   */\n",
              "  function handleAddOutput(event, handle) {\n",
              "    var output_area = handle.output_area;\n",
              "    var output = handle.output;\n",
              "\n",
              "    // limit handleAddOutput to display_data with EXEC_MIME_TYPE content only\n",
              "    if ((output.output_type != \"display_data\") || (!output.data.hasOwnProperty(EXEC_MIME_TYPE))) {\n",
              "      return\n",
              "    }\n",
              "\n",
              "    var toinsert = output_area.element.find(\".\" + CLASS_NAME.split(' ')[0]);\n",
              "\n",
              "    if (output.metadata[EXEC_MIME_TYPE][\"id\"] !== undefined) {\n",
              "      toinsert[toinsert.length - 1].firstChild.textContent = output.data[JS_MIME_TYPE];\n",
              "      // store reference to embed id on output_area\n",
              "      output_area._bokeh_element_id = output.metadata[EXEC_MIME_TYPE][\"id\"];\n",
              "    }\n",
              "    if (output.metadata[EXEC_MIME_TYPE][\"server_id\"] !== undefined) {\n",
              "      var bk_div = document.createElement(\"div\");\n",
              "      bk_div.innerHTML = output.data[HTML_MIME_TYPE];\n",
              "      var script_attrs = bk_div.children[0].attributes;\n",
              "      for (var i = 0; i < script_attrs.length; i++) {\n",
              "        toinsert[toinsert.length - 1].firstChild.setAttribute(script_attrs[i].name, script_attrs[i].value);\n",
              "      }\n",
              "      // store reference to server id on output_area\n",
              "      output_area._bokeh_server_id = output.metadata[EXEC_MIME_TYPE][\"server_id\"];\n",
              "    }\n",
              "  }\n",
              "\n",
              "  function register_renderer(events, OutputArea) {\n",
              "\n",
              "    function append_mime(data, metadata, element) {\n",
              "      // create a DOM node to render to\n",
              "      var toinsert = this.create_output_subarea(\n",
              "        metadata,\n",
              "        CLASS_NAME,\n",
              "        EXEC_MIME_TYPE\n",
              "      );\n",
              "      this.keyboard_manager.register_events(toinsert);\n",
              "      // Render to node\n",
              "      var props = {data: data, metadata: metadata[EXEC_MIME_TYPE]};\n",
              "      render(props, toinsert[toinsert.length - 1]);\n",
              "      element.append(toinsert);\n",
              "      return toinsert\n",
              "    }\n",
              "\n",
              "    /* Handle when an output is cleared or removed */\n",
              "    events.on('clear_output.CodeCell', handleClearOutput);\n",
              "    events.on('delete.Cell', handleClearOutput);\n",
              "\n",
              "    /* Handle when a new output is added */\n",
              "    events.on('output_added.OutputArea', handleAddOutput);\n",
              "\n",
              "    /**\n",
              "     * Register the mime type and append_mime function with output_area\n",
              "     */\n",
              "    OutputArea.prototype.register_mime_type(EXEC_MIME_TYPE, append_mime, {\n",
              "      /* Is output safe? */\n",
              "      safe: true,\n",
              "      /* Index of renderer in `output_area.display_order` */\n",
              "      index: 0\n",
              "    });\n",
              "  }\n",
              "\n",
              "  // register the mime type if in Jupyter Notebook environment and previously unregistered\n",
              "  if (root.Jupyter !== undefined) {\n",
              "    var events = require('base/js/events');\n",
              "    var OutputArea = require('notebook/js/outputarea').OutputArea;\n",
              "\n",
              "    if (OutputArea.prototype.mime_types().indexOf(EXEC_MIME_TYPE) == -1) {\n",
              "      register_renderer(events, OutputArea);\n",
              "    }\n",
              "  }\n",
              "\n",
              "  \n",
              "  if (typeof (root._bokeh_timeout) === \"undefined\" || force === true) {\n",
              "    root._bokeh_timeout = Date.now() + 5000;\n",
              "    root._bokeh_failed_load = false;\n",
              "  }\n",
              "\n",
              "  var NB_LOAD_WARNING = {'data': {'text/html':\n",
              "     \"<div style='background-color: #fdd'>\\n\"+\n",
              "     \"<p>\\n\"+\n",
              "     \"BokehJS does not appear to have successfully loaded. If loading BokehJS from CDN, this \\n\"+\n",
              "     \"may be due to a slow or bad network connection. Possible fixes:\\n\"+\n",
              "     \"</p>\\n\"+\n",
              "     \"<ul>\\n\"+\n",
              "     \"<li>re-rerun `output_notebook()` to attempt to load from CDN again, or</li>\\n\"+\n",
              "     \"<li>use INLINE resources instead, as so:</li>\\n\"+\n",
              "     \"</ul>\\n\"+\n",
              "     \"<code>\\n\"+\n",
              "     \"from bokeh.resources import INLINE\\n\"+\n",
              "     \"output_notebook(resources=INLINE)\\n\"+\n",
              "     \"</code>\\n\"+\n",
              "     \"</div>\"}};\n",
              "\n",
              "  function display_loaded() {\n",
              "    var el = document.getElementById(\"8d57fc99-387b-45d1-b0d4-e734b76c19ee\");\n",
              "    if (el != null) {\n",
              "      el.textContent = \"BokehJS is loading...\";\n",
              "    }\n",
              "    if (root.Bokeh !== undefined) {\n",
              "      if (el != null) {\n",
              "        el.textContent = \"BokehJS \" + root.Bokeh.version + \" successfully loaded.\";\n",
              "      }\n",
              "    } else if (Date.now() < root._bokeh_timeout) {\n",
              "      setTimeout(display_loaded, 100)\n",
              "    }\n",
              "  }\n",
              "\n",
              "\n",
              "  function run_callbacks() {\n",
              "    try {\n",
              "      root._bokeh_onload_callbacks.forEach(function(callback) { callback() });\n",
              "    }\n",
              "    finally {\n",
              "      delete root._bokeh_onload_callbacks\n",
              "    }\n",
              "    console.info(\"Bokeh: all callbacks have finished\");\n",
              "  }\n",
              "\n",
              "  function load_libs(js_urls, callback) {\n",
              "    root._bokeh_onload_callbacks.push(callback);\n",
              "    if (root._bokeh_is_loading > 0) {\n",
              "      console.log(\"Bokeh: BokehJS is being loaded, scheduling callback at\", now());\n",
              "      return null;\n",
              "    }\n",
              "    if (js_urls == null || js_urls.length === 0) {\n",
              "      run_callbacks();\n",
              "      return null;\n",
              "    }\n",
              "    console.log(\"Bokeh: BokehJS not loaded, scheduling load and callback at\", now());\n",
              "    root._bokeh_is_loading = js_urls.length;\n",
              "    for (var i = 0; i < js_urls.length; i++) {\n",
              "      var url = js_urls[i];\n",
              "      var s = document.createElement('script');\n",
              "      s.src = url;\n",
              "      s.async = false;\n",
              "      s.onreadystatechange = s.onload = function() {\n",
              "        root._bokeh_is_loading--;\n",
              "        if (root._bokeh_is_loading === 0) {\n",
              "          console.log(\"Bokeh: all BokehJS libraries loaded\");\n",
              "          run_callbacks()\n",
              "        }\n",
              "      };\n",
              "      s.onerror = function() {\n",
              "        console.warn(\"failed to load library \" + url);\n",
              "      };\n",
              "      console.log(\"Bokeh: injecting script tag for BokehJS library: \", url);\n",
              "      document.getElementsByTagName(\"head\")[0].appendChild(s);\n",
              "    }\n",
              "  };var element = document.getElementById(\"8d57fc99-387b-45d1-b0d4-e734b76c19ee\");\n",
              "  if (element == null) {\n",
              "    console.log(\"Bokeh: ERROR: autoload.js configured with elementid '8d57fc99-387b-45d1-b0d4-e734b76c19ee' but no matching script tag was found. \")\n",
              "    return false;\n",
              "  }\n",
              "\n",
              "  var js_urls = [\"https://cdn.pydata.org/bokeh/release/bokeh-0.13.0.min.js\", \"https://cdn.pydata.org/bokeh/release/bokeh-widgets-0.13.0.min.js\", \"https://cdn.pydata.org/bokeh/release/bokeh-tables-0.13.0.min.js\", \"https://cdn.pydata.org/bokeh/release/bokeh-gl-0.13.0.min.js\"];\n",
              "\n",
              "  var inline_js = [\n",
              "    function(Bokeh) {\n",
              "      Bokeh.set_log_level(\"info\");\n",
              "    },\n",
              "    \n",
              "    function(Bokeh) {\n",
              "      \n",
              "    },\n",
              "    function(Bokeh) {\n",
              "      console.log(\"Bokeh: injecting CSS: https://cdn.pydata.org/bokeh/release/bokeh-0.13.0.min.css\");\n",
              "      Bokeh.embed.inject_css(\"https://cdn.pydata.org/bokeh/release/bokeh-0.13.0.min.css\");\n",
              "      console.log(\"Bokeh: injecting CSS: https://cdn.pydata.org/bokeh/release/bokeh-widgets-0.13.0.min.css\");\n",
              "      Bokeh.embed.inject_css(\"https://cdn.pydata.org/bokeh/release/bokeh-widgets-0.13.0.min.css\");\n",
              "      console.log(\"Bokeh: injecting CSS: https://cdn.pydata.org/bokeh/release/bokeh-tables-0.13.0.min.css\");\n",
              "      Bokeh.embed.inject_css(\"https://cdn.pydata.org/bokeh/release/bokeh-tables-0.13.0.min.css\");\n",
              "    }\n",
              "  ];\n",
              "\n",
              "  function run_inline_js() {\n",
              "    \n",
              "    if ((root.Bokeh !== undefined) || (force === true)) {\n",
              "      for (var i = 0; i < inline_js.length; i++) {\n",
              "        inline_js[i].call(root, root.Bokeh);\n",
              "      }if (force === true) {\n",
              "        display_loaded();\n",
              "      }} else if (Date.now() < root._bokeh_timeout) {\n",
              "      setTimeout(run_inline_js, 100);\n",
              "    } else if (!root._bokeh_failed_load) {\n",
              "      console.log(\"Bokeh: BokehJS failed to load within specified timeout.\");\n",
              "      root._bokeh_failed_load = true;\n",
              "    } else if (force !== true) {\n",
              "      var cell = $(document.getElementById(\"8d57fc99-387b-45d1-b0d4-e734b76c19ee\")).parents('.cell').data().cell;\n",
              "      cell.output_area.append_execute_result(NB_LOAD_WARNING)\n",
              "    }\n",
              "\n",
              "  }\n",
              "\n",
              "  if (root._bokeh_is_loading === 0) {\n",
              "    console.log(\"Bokeh: BokehJS loaded, going straight to plotting\");\n",
              "    run_inline_js();\n",
              "  } else {\n",
              "    load_libs(js_urls, function() {\n",
              "      console.log(\"Bokeh: BokehJS plotting callback run at\", now());\n",
              "      run_inline_js();\n",
              "    });\n",
              "  }\n",
              "}(window));"
            ],
            "application/vnd.bokehjs_load.v0+json": "\n(function(root) {\n  function now() {\n    return new Date();\n  }\n\n  var force = true;\n\n  if (typeof (root._bokeh_onload_callbacks) === \"undefined\" || force === true) {\n    root._bokeh_onload_callbacks = [];\n    root._bokeh_is_loading = undefined;\n  }\n\n  \n\n  \n  if (typeof (root._bokeh_timeout) === \"undefined\" || force === true) {\n    root._bokeh_timeout = Date.now() + 5000;\n    root._bokeh_failed_load = false;\n  }\n\n  var NB_LOAD_WARNING = {'data': {'text/html':\n     \"<div style='background-color: #fdd'>\\n\"+\n     \"<p>\\n\"+\n     \"BokehJS does not appear to have successfully loaded. If loading BokehJS from CDN, this \\n\"+\n     \"may be due to a slow or bad network connection. Possible fixes:\\n\"+\n     \"</p>\\n\"+\n     \"<ul>\\n\"+\n     \"<li>re-rerun `output_notebook()` to attempt to load from CDN again, or</li>\\n\"+\n     \"<li>use INLINE resources instead, as so:</li>\\n\"+\n     \"</ul>\\n\"+\n     \"<code>\\n\"+\n     \"from bokeh.resources import INLINE\\n\"+\n     \"output_notebook(resources=INLINE)\\n\"+\n     \"</code>\\n\"+\n     \"</div>\"}};\n\n  function display_loaded() {\n    var el = document.getElementById(\"8d57fc99-387b-45d1-b0d4-e734b76c19ee\");\n    if (el != null) {\n      el.textContent = \"BokehJS is loading...\";\n    }\n    if (root.Bokeh !== undefined) {\n      if (el != null) {\n        el.textContent = \"BokehJS \" + root.Bokeh.version + \" successfully loaded.\";\n      }\n    } else if (Date.now() < root._bokeh_timeout) {\n      setTimeout(display_loaded, 100)\n    }\n  }\n\n\n  function run_callbacks() {\n    try {\n      root._bokeh_onload_callbacks.forEach(function(callback) { callback() });\n    }\n    finally {\n      delete root._bokeh_onload_callbacks\n    }\n    console.info(\"Bokeh: all callbacks have finished\");\n  }\n\n  function load_libs(js_urls, callback) {\n    root._bokeh_onload_callbacks.push(callback);\n    if (root._bokeh_is_loading > 0) {\n      console.log(\"Bokeh: BokehJS is being loaded, scheduling callback at\", now());\n      return null;\n    }\n    if (js_urls == null || js_urls.length === 0) {\n      run_callbacks();\n      return null;\n    }\n    console.log(\"Bokeh: BokehJS not loaded, scheduling load and callback at\", now());\n    root._bokeh_is_loading = js_urls.length;\n    for (var i = 0; i < js_urls.length; i++) {\n      var url = js_urls[i];\n      var s = document.createElement('script');\n      s.src = url;\n      s.async = false;\n      s.onreadystatechange = s.onload = function() {\n        root._bokeh_is_loading--;\n        if (root._bokeh_is_loading === 0) {\n          console.log(\"Bokeh: all BokehJS libraries loaded\");\n          run_callbacks()\n        }\n      };\n      s.onerror = function() {\n        console.warn(\"failed to load library \" + url);\n      };\n      console.log(\"Bokeh: injecting script tag for BokehJS library: \", url);\n      document.getElementsByTagName(\"head\")[0].appendChild(s);\n    }\n  };var element = document.getElementById(\"8d57fc99-387b-45d1-b0d4-e734b76c19ee\");\n  if (element == null) {\n    console.log(\"Bokeh: ERROR: autoload.js configured with elementid '8d57fc99-387b-45d1-b0d4-e734b76c19ee' but no matching script tag was found. \")\n    return false;\n  }\n\n  var js_urls = [\"https://cdn.pydata.org/bokeh/release/bokeh-0.13.0.min.js\", \"https://cdn.pydata.org/bokeh/release/bokeh-widgets-0.13.0.min.js\", \"https://cdn.pydata.org/bokeh/release/bokeh-tables-0.13.0.min.js\", \"https://cdn.pydata.org/bokeh/release/bokeh-gl-0.13.0.min.js\"];\n\n  var inline_js = [\n    function(Bokeh) {\n      Bokeh.set_log_level(\"info\");\n    },\n    \n    function(Bokeh) {\n      \n    },\n    function(Bokeh) {\n      console.log(\"Bokeh: injecting CSS: https://cdn.pydata.org/bokeh/release/bokeh-0.13.0.min.css\");\n      Bokeh.embed.inject_css(\"https://cdn.pydata.org/bokeh/release/bokeh-0.13.0.min.css\");\n      console.log(\"Bokeh: injecting CSS: https://cdn.pydata.org/bokeh/release/bokeh-widgets-0.13.0.min.css\");\n      Bokeh.embed.inject_css(\"https://cdn.pydata.org/bokeh/release/bokeh-widgets-0.13.0.min.css\");\n      console.log(\"Bokeh: injecting CSS: https://cdn.pydata.org/bokeh/release/bokeh-tables-0.13.0.min.css\");\n      Bokeh.embed.inject_css(\"https://cdn.pydata.org/bokeh/release/bokeh-tables-0.13.0.min.css\");\n    }\n  ];\n\n  function run_inline_js() {\n    \n    if ((root.Bokeh !== undefined) || (force === true)) {\n      for (var i = 0; i < inline_js.length; i++) {\n        inline_js[i].call(root, root.Bokeh);\n      }if (force === true) {\n        display_loaded();\n      }} else if (Date.now() < root._bokeh_timeout) {\n      setTimeout(run_inline_js, 100);\n    } else if (!root._bokeh_failed_load) {\n      console.log(\"Bokeh: BokehJS failed to load within specified timeout.\");\n      root._bokeh_failed_load = true;\n    } else if (force !== true) {\n      var cell = $(document.getElementById(\"8d57fc99-387b-45d1-b0d4-e734b76c19ee\")).parents('.cell').data().cell;\n      cell.output_area.append_execute_result(NB_LOAD_WARNING)\n    }\n\n  }\n\n  if (root._bokeh_is_loading === 0) {\n    console.log(\"Bokeh: BokehJS loaded, going straight to plotting\");\n    run_inline_js();\n  } else {\n    load_libs(js_urls, function() {\n      console.log(\"Bokeh: BokehJS plotting callback run at\", now());\n      run_inline_js();\n    });\n  }\n}(window));"
          },
          "metadata": {
            "tags": []
          }
        },
        {
          "output_type": "display_data",
          "data": {
            "text/html": [
              "\n",
              "\n",
              "\n",
              "\n",
              "\n",
              "\n",
              "  <div class=\"bk-root\" id=\"fe92c607-305f-4a39-8580-018c0e4bf43a\"></div>\n"
            ]
          },
          "metadata": {
            "tags": []
          }
        },
        {
          "output_type": "display_data",
          "data": {
            "application/javascript": [
              "(function(root) {\n",
              "  function embed_document(root) {\n",
              "    \n",
              "  var docs_json = {\"6f4c6447-da2b-43b8-ad42-b68ad57ce7fd\":{\"roots\":{\"references\":[{\"attributes\":{},\"id\":\"66f2c56a-8ef7-4fa8-bc7d-7e88309985e5\",\"type\":\"BasicTicker\"},{\"attributes\":{},\"id\":\"62786571-5955-40a0-bbd4-22cd9f046320\",\"type\":\"Selection\"},{\"attributes\":{\"data_source\":{\"id\":\"1b2bada8-5e81-4dfe-9238-37e6471d664e\",\"type\":\"ColumnDataSource\"},\"glyph\":{\"id\":\"d8c35c81-75d2-479a-beea-59de9608e6aa\",\"type\":\"Line\"},\"hover_glyph\":null,\"muted_glyph\":null,\"nonselection_glyph\":{\"id\":\"6112ef58-9bf6-42af-95c3-58c81c51df91\",\"type\":\"Line\"},\"selection_glyph\":null,\"view\":{\"id\":\"f8319843-1ce8-4d04-bb09-c56cb0cc848c\",\"type\":\"CDSView\"}},\"id\":\"54308053-35a7-4abc-906d-6c17992fb337\",\"type\":\"GlyphRenderer\"},{\"attributes\":{\"plot\":{\"id\":\"080d4cde-cdf1-4c46-b109-7d48690bf836\",\"subtype\":\"Figure\",\"type\":\"Plot\"},\"ticker\":{\"id\":\"66f2c56a-8ef7-4fa8-bc7d-7e88309985e5\",\"type\":\"BasicTicker\"}},\"id\":\"f8570034-e094-4e4e-8a2d-89c1bf9798ae\",\"type\":\"Grid\"},{\"attributes\":{\"plot\":null,\"text\":\"Accuracy History\"},\"id\":\"f2c0c86d-99c4-4177-bed2-b283069980e8\",\"type\":\"Title\"},{\"attributes\":{},\"id\":\"21be410c-7764-407c-82bc-4fb228532dda\",\"type\":\"LinearScale\"},{\"attributes\":{\"axis_label\":\"Loss\",\"formatter\":{\"id\":\"3a6446be-9dc3-4fcb-9f5c-0a918a6023cc\",\"type\":\"BasicTickFormatter\"},\"plot\":{\"id\":\"080d4cde-cdf1-4c46-b109-7d48690bf836\",\"subtype\":\"Figure\",\"type\":\"Plot\"},\"ticker\":{\"id\":\"a56c20c2-3688-47ed-b46e-88cd1422f3d1\",\"type\":\"BasicTicker\"}},\"id\":\"430bfedd-a482-44ec-8d09-f9faf904ffd2\",\"type\":\"LinearAxis\"},{\"attributes\":{\"callback\":null},\"id\":\"33ddac05-4b24-4259-88fc-5f767ea5ec19\",\"type\":\"DataRange1d\"},{\"attributes\":{},\"id\":\"a56c20c2-3688-47ed-b46e-88cd1422f3d1\",\"type\":\"BasicTicker\"},{\"attributes\":{\"dimension\":1,\"plot\":{\"id\":\"080d4cde-cdf1-4c46-b109-7d48690bf836\",\"subtype\":\"Figure\",\"type\":\"Plot\"},\"ticker\":{\"id\":\"a56c20c2-3688-47ed-b46e-88cd1422f3d1\",\"type\":\"BasicTicker\"}},\"id\":\"9cd25673-c38b-477a-8e75-dced239558c6\",\"type\":\"Grid\"},{\"attributes\":{\"source\":{\"id\":\"1b2bada8-5e81-4dfe-9238-37e6471d664e\",\"type\":\"ColumnDataSource\"}},\"id\":\"f8319843-1ce8-4d04-bb09-c56cb0cc848c\",\"type\":\"CDSView\"},{\"attributes\":{\"line_alpha\":0.1,\"line_color\":\"#1f77b4\",\"line_width\":2,\"x\":{\"field\":\"x\"},\"y\":{\"field\":\"y\"}},\"id\":\"6112ef58-9bf6-42af-95c3-58c81c51df91\",\"type\":\"Line\"},{\"attributes\":{},\"id\":\"3a6446be-9dc3-4fcb-9f5c-0a918a6023cc\",\"type\":\"BasicTickFormatter\"},{\"attributes\":{\"bottom_units\":\"screen\",\"fill_alpha\":{\"value\":0.5},\"fill_color\":{\"value\":\"lightgrey\"},\"left_units\":\"screen\",\"level\":\"overlay\",\"line_alpha\":{\"value\":1.0},\"line_color\":{\"value\":\"black\"},\"line_dash\":[4,4],\"line_width\":{\"value\":2},\"plot\":null,\"render_mode\":\"css\",\"right_units\":\"screen\",\"top_units\":\"screen\"},\"id\":\"9c73b67b-fcef-4fa3-bf5c-7433e78851bb\",\"type\":\"BoxAnnotation\"},{\"attributes\":{\"active_drag\":\"auto\",\"active_inspect\":\"auto\",\"active_multi\":null,\"active_scroll\":\"auto\",\"active_tap\":\"auto\",\"tools\":[{\"id\":\"9027d146-ee23-4ff0-b03e-73c3ec96ceba\",\"type\":\"PanTool\"},{\"id\":\"6f598917-9705-4410-9779-9fc9f782eff4\",\"type\":\"WheelZoomTool\"},{\"id\":\"bf812967-7776-4c70-bd47-9163c179da18\",\"type\":\"BoxZoomTool\"},{\"id\":\"b62353a5-be49-4a9c-95f0-81c47ad51268\",\"type\":\"SaveTool\"},{\"id\":\"5028abf9-b913-41e9-94ba-66f23bacbc39\",\"type\":\"ResetTool\"},{\"id\":\"99d72185-7a13-426a-8e18-8b3cb83ed74a\",\"type\":\"HelpTool\"}]},\"id\":\"b215742b-252e-4add-95c1-523bee960e76\",\"type\":\"Toolbar\"},{\"attributes\":{},\"id\":\"9027d146-ee23-4ff0-b03e-73c3ec96ceba\",\"type\":\"PanTool\"},{\"attributes\":{},\"id\":\"e30279b6-4fd1-49c1-bbf5-5f8eb214eea9\",\"type\":\"BasicTickFormatter\"},{\"attributes\":{},\"id\":\"6f598917-9705-4410-9779-9fc9f782eff4\",\"type\":\"WheelZoomTool\"},{\"attributes\":{},\"id\":\"a3a253ff-2f47-443d-a1bc-9198d363c54b\",\"type\":\"UnionRenderers\"},{\"attributes\":{\"overlay\":{\"id\":\"9c73b67b-fcef-4fa3-bf5c-7433e78851bb\",\"type\":\"BoxAnnotation\"}},\"id\":\"bf812967-7776-4c70-bd47-9163c179da18\",\"type\":\"BoxZoomTool\"},{\"attributes\":{},\"id\":\"b62353a5-be49-4a9c-95f0-81c47ad51268\",\"type\":\"SaveTool\"},{\"attributes\":{},\"id\":\"5028abf9-b913-41e9-94ba-66f23bacbc39\",\"type\":\"ResetTool\"},{\"attributes\":{},\"id\":\"99d72185-7a13-426a-8e18-8b3cb83ed74a\",\"type\":\"HelpTool\"},{\"attributes\":{\"below\":[{\"id\":\"0560726f-169d-4411-bd9c-bbbea1ac3ba0\",\"type\":\"LinearAxis\"}],\"left\":[{\"id\":\"430bfedd-a482-44ec-8d09-f9faf904ffd2\",\"type\":\"LinearAxis\"}],\"renderers\":[{\"id\":\"0560726f-169d-4411-bd9c-bbbea1ac3ba0\",\"type\":\"LinearAxis\"},{\"id\":\"f8570034-e094-4e4e-8a2d-89c1bf9798ae\",\"type\":\"Grid\"},{\"id\":\"430bfedd-a482-44ec-8d09-f9faf904ffd2\",\"type\":\"LinearAxis\"},{\"id\":\"9cd25673-c38b-477a-8e75-dced239558c6\",\"type\":\"Grid\"},{\"id\":\"9c73b67b-fcef-4fa3-bf5c-7433e78851bb\",\"type\":\"BoxAnnotation\"},{\"id\":\"14a7ecfc-14ad-49a2-a4f6-0db2b625818d\",\"type\":\"Legend\"},{\"id\":\"54308053-35a7-4abc-906d-6c17992fb337\",\"type\":\"GlyphRenderer\"},{\"id\":\"01d225c5-8069-4cf8-b50f-add9098dd549\",\"type\":\"GlyphRenderer\"}],\"title\":{\"id\":\"f2c0c86d-99c4-4177-bed2-b283069980e8\",\"type\":\"Title\"},\"toolbar\":{\"id\":\"b215742b-252e-4add-95c1-523bee960e76\",\"type\":\"Toolbar\"},\"x_range\":{\"id\":\"6b3ee523-716e-4fd8-bfb2-9bb24716def1\",\"type\":\"DataRange1d\"},\"x_scale\":{\"id\":\"21be410c-7764-407c-82bc-4fb228532dda\",\"type\":\"LinearScale\"},\"y_range\":{\"id\":\"33ddac05-4b24-4259-88fc-5f767ea5ec19\",\"type\":\"DataRange1d\"},\"y_scale\":{\"id\":\"605f9aad-82d7-4b9a-9c1e-c9695cb8a6a6\",\"type\":\"LinearScale\"}},\"id\":\"080d4cde-cdf1-4c46-b109-7d48690bf836\",\"subtype\":\"Figure\",\"type\":\"Plot\"},{\"attributes\":{\"items\":[{\"id\":\"583f06b9-1101-44ce-958e-2c34abba36ac\",\"type\":\"LegendItem\"},{\"id\":\"22aea1c5-c2c9-42c1-9623-42691578f7b2\",\"type\":\"LegendItem\"}],\"plot\":{\"id\":\"080d4cde-cdf1-4c46-b109-7d48690bf836\",\"subtype\":\"Figure\",\"type\":\"Plot\"}},\"id\":\"14a7ecfc-14ad-49a2-a4f6-0db2b625818d\",\"type\":\"Legend\"},{\"attributes\":{\"label\":{\"value\":\"Val. Acc\"},\"renderers\":[{\"id\":\"54308053-35a7-4abc-906d-6c17992fb337\",\"type\":\"GlyphRenderer\"}]},\"id\":\"583f06b9-1101-44ce-958e-2c34abba36ac\",\"type\":\"LegendItem\"},{\"attributes\":{},\"id\":\"605f9aad-82d7-4b9a-9c1e-c9695cb8a6a6\",\"type\":\"LinearScale\"},{\"attributes\":{\"line_color\":\"blue\",\"line_width\":2,\"x\":{\"field\":\"x\"},\"y\":{\"field\":\"y\"}},\"id\":\"6f65f79c-f2ba-4eee-87ee-e15edae26d0c\",\"type\":\"Line\"},{\"attributes\":{\"callback\":null,\"data\":{\"x\":[0,1,2],\"y\":[0.78612,0.90564,0.9524]},\"selected\":{\"id\":\"62786571-5955-40a0-bbd4-22cd9f046320\",\"type\":\"Selection\"},\"selection_policy\":{\"id\":\"a3a253ff-2f47-443d-a1bc-9198d363c54b\",\"type\":\"UnionRenderers\"}},\"id\":\"8a87fc1c-e307-48e4-a979-dac9368a5694\",\"type\":\"ColumnDataSource\"},{\"attributes\":{\"line_alpha\":0.1,\"line_color\":\"#1f77b4\",\"line_width\":2,\"x\":{\"field\":\"x\"},\"y\":{\"field\":\"y\"}},\"id\":\"1060ad2a-619b-4fe2-afca-14e303da9318\",\"type\":\"Line\"},{\"attributes\":{\"callback\":null,\"data\":{\"x\":[0,1,2],\"y\":[0.84492,0.85712,0.8454]},\"selected\":{\"id\":\"ed8a8fa1-b60b-4dd2-b011-99c365467312\",\"type\":\"Selection\"},\"selection_policy\":{\"id\":\"c113588e-d620-417f-89fc-a919615546de\",\"type\":\"UnionRenderers\"}},\"id\":\"1b2bada8-5e81-4dfe-9238-37e6471d664e\",\"type\":\"ColumnDataSource\"},{\"attributes\":{\"data_source\":{\"id\":\"8a87fc1c-e307-48e4-a979-dac9368a5694\",\"type\":\"ColumnDataSource\"},\"glyph\":{\"id\":\"6f65f79c-f2ba-4eee-87ee-e15edae26d0c\",\"type\":\"Line\"},\"hover_glyph\":null,\"muted_glyph\":null,\"nonselection_glyph\":{\"id\":\"1060ad2a-619b-4fe2-afca-14e303da9318\",\"type\":\"Line\"},\"selection_glyph\":null,\"view\":{\"id\":\"c6750717-b12f-4828-a178-55ca36e6cbcd\",\"type\":\"CDSView\"}},\"id\":\"01d225c5-8069-4cf8-b50f-add9098dd549\",\"type\":\"GlyphRenderer\"},{\"attributes\":{\"axis_label\":\"Time\",\"formatter\":{\"id\":\"e30279b6-4fd1-49c1-bbf5-5f8eb214eea9\",\"type\":\"BasicTickFormatter\"},\"plot\":{\"id\":\"080d4cde-cdf1-4c46-b109-7d48690bf836\",\"subtype\":\"Figure\",\"type\":\"Plot\"},\"ticker\":{\"id\":\"66f2c56a-8ef7-4fa8-bc7d-7e88309985e5\",\"type\":\"BasicTicker\"}},\"id\":\"0560726f-169d-4411-bd9c-bbbea1ac3ba0\",\"type\":\"LinearAxis\"},{\"attributes\":{\"source\":{\"id\":\"8a87fc1c-e307-48e4-a979-dac9368a5694\",\"type\":\"ColumnDataSource\"}},\"id\":\"c6750717-b12f-4828-a178-55ca36e6cbcd\",\"type\":\"CDSView\"},{\"attributes\":{},\"id\":\"c113588e-d620-417f-89fc-a919615546de\",\"type\":\"UnionRenderers\"},{\"attributes\":{\"callback\":null},\"id\":\"6b3ee523-716e-4fd8-bfb2-9bb24716def1\",\"type\":\"DataRange1d\"},{\"attributes\":{},\"id\":\"ed8a8fa1-b60b-4dd2-b011-99c365467312\",\"type\":\"Selection\"},{\"attributes\":{\"label\":{\"value\":\"Acc\"},\"renderers\":[{\"id\":\"01d225c5-8069-4cf8-b50f-add9098dd549\",\"type\":\"GlyphRenderer\"}]},\"id\":\"22aea1c5-c2c9-42c1-9623-42691578f7b2\",\"type\":\"LegendItem\"},{\"attributes\":{\"line_color\":\"orange\",\"line_width\":2,\"x\":{\"field\":\"x\"},\"y\":{\"field\":\"y\"}},\"id\":\"d8c35c81-75d2-479a-beea-59de9608e6aa\",\"type\":\"Line\"}],\"root_ids\":[\"080d4cde-cdf1-4c46-b109-7d48690bf836\"]},\"title\":\"Bokeh Application\",\"version\":\"0.13.0\"}};\n",
              "  var render_items = [{\"docid\":\"6f4c6447-da2b-43b8-ad42-b68ad57ce7fd\",\"roots\":{\"080d4cde-cdf1-4c46-b109-7d48690bf836\":\"fe92c607-305f-4a39-8580-018c0e4bf43a\"}}];\n",
              "  root.Bokeh.embed.embed_items_notebook(docs_json, render_items);\n",
              "\n",
              "  }\n",
              "  if (root.Bokeh !== undefined) {\n",
              "    embed_document(root);\n",
              "  } else {\n",
              "    var attempts = 0;\n",
              "    var timer = setInterval(function(root) {\n",
              "      if (root.Bokeh !== undefined) {\n",
              "        embed_document(root);\n",
              "        clearInterval(timer);\n",
              "      }\n",
              "      attempts++;\n",
              "      if (attempts > 100) {\n",
              "        console.log(\"Bokeh: ERROR: Unable to run BokehJS code because BokehJS library is missing\")\n",
              "        clearInterval(timer);\n",
              "      }\n",
              "    }, 10, root)\n",
              "  }\n",
              "})(window);"
            ],
            "application/vnd.bokehjs_exec.v0+json": ""
          },
          "metadata": {
            "tags": [],
            "application/vnd.bokehjs_exec.v0+json": {
              "id": "080d4cde-cdf1-4c46-b109-7d48690bf836"
            }
          }
        }
      ]
    },
    {
      "metadata": {
        "id": "15jjqc0jxrmI",
        "colab_type": "text"
      },
      "cell_type": "markdown",
      "source": [
        "#### The numbers! What do they mean?\n",
        "Our validation accuracy is going down but our model accuracy is going up. This is an example of overfitting. Since the change is negligible, we can ignore this. We have just designed a sentiment analysis system with ~0.84 accuracy. "
      ]
    },
    {
      "metadata": {
        "id": "OI-ayRMDAHnN",
        "colab_type": "text"
      },
      "cell_type": "markdown",
      "source": [
        "## Conclusion\n",
        "RNN and its kind are a great way to do sentiment analysis with minimum amount of workflow. This notebook uses preprocessed imdb data so in a real life use case, preprocessing steps need to be taken into account. This approach can be extended to other problems as well!"
      ]
    }
  ]
}